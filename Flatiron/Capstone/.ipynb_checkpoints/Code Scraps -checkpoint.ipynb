{
 "cells": [
  {
   "cell_type": "markdown",
   "metadata": {},
   "source": [
    "# 1 Scraping a Single Page  \n",
    "A single page scrape to establish workflow & verify the correct information is being selected from the site."
   ]
  },
  {
   "cell_type": "code",
   "execution_count": 2,
   "metadata": {},
   "outputs": [],
   "source": [
    "from bs4 import BeautifulSoup \n",
    "import requests  \n",
    "import pandas as pd  \n",
    "import numpy as np \n",
    "from time import sleep\n",
    "from random import randint"
   ]
  },
  {
   "cell_type": "code",
   "execution_count": null,
   "metadata": {},
   "outputs": [],
   "source": [
    "url = \"https://www.nextgenscience.org/search-standards?keys=&page=1\""
   ]
  },
  {
   "cell_type": "code",
   "execution_count": null,
   "metadata": {},
   "outputs": [],
   "source": [
    "response = requests.get(url) \n",
    "response.status_code"
   ]
  },
  {
   "cell_type": "code",
   "execution_count": null,
   "metadata": {},
   "outputs": [],
   "source": [
    "soup = BeautifulSoup(response.content) \n",
    "soup"
   ]
  },
  {
   "cell_type": "code",
   "execution_count": null,
   "metadata": {},
   "outputs": [],
   "source": [
    "class_name = \"col-sm-9\""
   ]
  },
  {
   "cell_type": "code",
   "execution_count": null,
   "metadata": {},
   "outputs": [],
   "source": [
    "examples = soup.find_all('div', class_=class_name) \n",
    "len(examples)"
   ]
  },
  {
   "cell_type": "code",
   "execution_count": null,
   "metadata": {},
   "outputs": [],
   "source": [
    "tag = examples[0]\n",
    "tag.text"
   ]
  },
  {
   "cell_type": "code",
   "execution_count": null,
   "metadata": {},
   "outputs": [],
   "source": [
    "tag.text.split('\\n\\n\\n\\n\\n')[:2]"
   ]
  },
  {
   "cell_type": "code",
   "execution_count": null,
   "metadata": {},
   "outputs": [],
   "source": [
    "example_list = []\n",
    "for example in examples: \n",
    "    example_list.append(example.text.split('\\n\\n\\n\\n\\n')[:2]) \n",
    "example_list"
   ]
  },
  {
   "cell_type": "code",
   "execution_count": null,
   "metadata": {},
   "outputs": [],
   "source": [
    "example = pd.DataFrame(example_list, columns=['Standard', 'Description'])  \n",
    "example"
   ]
  },
  {
   "cell_type": "code",
   "execution_count": null,
   "metadata": {},
   "outputs": [],
   "source": [
    "example['Standard'] = example['Standard'].map(lambda x: x.replace('\\n\\n\\n', '').strip('\\t')) \n",
    "example"
   ]
  },
  {
   "cell_type": "markdown",
   "metadata": {},
   "source": [
    "# 2 Scraping Just the Standard Name"
   ]
  },
  {
   "cell_type": "code",
   "execution_count": 10,
   "metadata": {},
   "outputs": [
    {
     "data": {
      "text/plain": [
       "'HS-PS1-2  Matter and its Interactions'"
      ]
     },
     "execution_count": 10,
     "metadata": {},
     "output_type": "execute_result"
    }
   ],
   "source": [
    "url = \"https://ngss.nsta.org/DisplayStandard.aspx?view=topic&id=2\" \n",
    "response = requests.get(url) \n",
    "response.status_code \n",
    "soup = BeautifulSoup(response.content) "
   ]
  },
  {
   "cell_type": "code",
   "execution_count": null,
   "metadata": {},
   "outputs": [],
   "source": [
    "titles = []\n",
    "years = []\n",
    "time = []\n",
    "imdb_ratings = []\n",
    "metascores = []\n",
    "votes = []\n",
    "us_gross = []"
   ]
  },
  {
   "cell_type": "code",
   "execution_count": null,
   "metadata": {},
   "outputs": [],
   "source": [
    "#url = 'https://www.nextgenscience.org/search-standards?keys=&page='\n",
    "s_list = [] \n",
    "pages = np.arange(0, 36, 1)    \n",
    "divclass = \"col-sm-9\"\n",
    "#for i in range(pages):   \n",
    "page = requests.get('https://www.nextgenscience.org/search-standards?keys=&page=3') #url + \"{}\".format(i)) \n",
    "soup = BeautifulSoup(page.text, 'html.parser')\n",
    "standard = soup.find_all('div', class_=divclass) \n",
    "  \n",
    "\n",
    "for s in standard: \n",
    "    s_list.append(standard.text.split('\\n\\n\\n\\n\\n')[:2]) \n",
    "s_list\n",
    "#s_list.append(standard.text) #.split('\\n\\n\\n\\n\\n')[:2])  \n",
    "#print(s_list)"
   ]
  },
  {
   "cell_type": "code",
   "execution_count": null,
   "metadata": {},
   "outputs": [],
   "source": [
    "import pdftotext\n",
    " \n",
    "# Load your PDF\n",
    "with open('/Users/kristen/Downloads/Arizona.pdf', \"rb\") as f:\n",
    "    pdf = pdftotext.PDF(f)\n",
    " \n",
    "# Save all text to a txt file.\n",
    "with open('Arizona.txt', 'w') as f:\n",
    "    f.write(\"\\n\\n\".join(pdf))"
   ]
  },
  {
   "cell_type": "code",
   "execution_count": null,
   "metadata": {},
   "outputs": [],
   "source": [
    "with open('Arizona.txt') as f:\n",
    "    az = f.readlines()\n",
    "    print(az)"
   ]
  },
  {
   "cell_type": "code",
   "execution_count": null,
   "metadata": {},
   "outputs": [],
   "source": [
    "#identify the number of clusters needed \n",
    "k_means_3 = KMeans(n_clusters=3).fit(features)\n",
    "k_means_4 = KMeans(n_clusters=4).fit(features)\n",
    "k_means_5 = KMeans(n_clusters=5).fit(features)\n",
    "k_means_6 = KMeans(n_clusters=6).fit(features)\n",
    "k_means_7 = KMeans(n_clusters=7).fit(features)\n",
    "\n",
    "k_list = [k_means_3, k_means_4, k_means_5, k_means_6, k_means_7]"
   ]
  }
 ],
 "metadata": {
  "kernelspec": {
   "display_name": "Python 3",
   "language": "python",
   "name": "python3"
  },
  "language_info": {
   "codemirror_mode": {
    "name": "ipython",
    "version": 3
   },
   "file_extension": ".py",
   "mimetype": "text/x-python",
   "name": "python",
   "nbconvert_exporter": "python",
   "pygments_lexer": "ipython3",
   "version": "3.8.3"
  }
 },
 "nbformat": 4,
 "nbformat_minor": 4
}
