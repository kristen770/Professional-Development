{
 "cells": [
  {
   "cell_type": "markdown",
   "metadata": {},
   "source": [
    "# Data Collection \n",
    "For this project I used BeautifulSoup, PyPDF2, and pdftotext to both scrape data from the web as well as convert PDF data into txt files. My primary focus in collection were the science standards written for NGS, aligned NGS standards and unaligned standards. In addition I collected the state wide grade 8 science examination (2002-2019) and a broad range of questions used in my own 6th grade classroom to preform classification and question alignment."
   ]
  },
  {
   "cell_type": "code",
   "execution_count": 39,
   "metadata": {},
   "outputs": [],
   "source": [
    "#custom functions \n",
    "from myfunctions import *  \n",
    "\n",
    "#webscraping\n",
    "from bs4 import BeautifulSoup \n",
    "import requests   \n",
    "from time import sleep \n",
    "import textract\n",
    "\n",
    "#data analysis\n",
    "import pandas as pd  \n",
    "import numpy as np \n",
    "from random import randint  \n",
    "\n",
    "#saving files\n",
    "import pickle \n",
    "import PyPDF2"
   ]
  },
  {
   "cell_type": "code",
   "execution_count": null,
   "metadata": {},
   "outputs": [],
   "source": []
  },
  {
   "cell_type": "markdown",
   "metadata": {},
   "source": [
    "# Standards"
   ]
  },
  {
   "cell_type": "markdown",
   "metadata": {},
   "source": [
    "### Next Generation Science Standards K-12  \n",
    "The [NGS](https://www.nextgenscience.org/) Standards are redesigned, national standards for K-12, in addition a [book](https://www.nap.edu/read/13165/chapter/1) detailing the reasoning, methodology and practices was released "
   ]
  },
  {
   "cell_type": "markdown",
   "metadata": {},
   "source": [
    "#### Standards & Basic Description Via Website"
   ]
  },
  {
   "cell_type": "code",
   "execution_count": 17,
   "metadata": {
    "collapsed": true
   },
   "outputs": [
    {
     "data": {
      "text/html": [
       "<div>\n",
       "<style scoped>\n",
       "    .dataframe tbody tr th:only-of-type {\n",
       "        vertical-align: middle;\n",
       "    }\n",
       "\n",
       "    .dataframe tbody tr th {\n",
       "        vertical-align: top;\n",
       "    }\n",
       "\n",
       "    .dataframe thead th {\n",
       "        text-align: right;\n",
       "    }\n",
       "</style>\n",
       "<table border=\"1\" class=\"dataframe\">\n",
       "  <thead>\n",
       "    <tr style=\"text-align: right;\">\n",
       "      <th></th>\n",
       "      <th>dci</th>\n",
       "      <th>standard</th>\n",
       "      <th>tag</th>\n",
       "    </tr>\n",
       "  </thead>\n",
       "  <tbody>\n",
       "    <tr>\n",
       "      <th>0</th>\n",
       "      <td>Motion and Stability: Forces and Interactions</td>\n",
       "      <td>Plan and conduct an investigation to compare t...</td>\n",
       "      <td>K-PS2-1</td>\n",
       "    </tr>\n",
       "    <tr>\n",
       "      <th>1</th>\n",
       "      <td>Motion and Stability: Forces and Interactions</td>\n",
       "      <td>Analyze data to determine if a design solution...</td>\n",
       "      <td>K-PS2-2</td>\n",
       "    </tr>\n",
       "    <tr>\n",
       "      <th>2</th>\n",
       "      <td>From Molecules to Organisms: Structures and Pr...</td>\n",
       "      <td>Use observations to describe patterns of what ...</td>\n",
       "      <td>K-LS1-1</td>\n",
       "    </tr>\n",
       "    <tr>\n",
       "      <th>3</th>\n",
       "      <td>Earth's Systems</td>\n",
       "      <td>Use and share observations of local weather co...</td>\n",
       "      <td>K-ESS2-1</td>\n",
       "    </tr>\n",
       "    <tr>\n",
       "      <th>4</th>\n",
       "      <td>Earth's Systems</td>\n",
       "      <td>Construct an argument supported by evidence fo...</td>\n",
       "      <td>K-ESS2-2</td>\n",
       "    </tr>\n",
       "  </tbody>\n",
       "</table>\n",
       "</div>"
      ],
      "text/plain": [
       "                                                 dci  \\\n",
       "0      Motion and Stability: Forces and Interactions   \n",
       "1      Motion and Stability: Forces and Interactions   \n",
       "2  From Molecules to Organisms: Structures and Pr...   \n",
       "3                                    Earth's Systems   \n",
       "4                                    Earth's Systems   \n",
       "\n",
       "                                            standard       tag  \n",
       "0  Plan and conduct an investigation to compare t...   K-PS2-1  \n",
       "1  Analyze data to determine if a design solution...   K-PS2-2  \n",
       "2  Use observations to describe patterns of what ...   K-LS1-1  \n",
       "3  Use and share observations of local weather co...  K-ESS2-1  \n",
       "4  Construct an argument supported by evidence fo...  K-ESS2-2  "
      ]
     },
     "execution_count": 17,
     "metadata": {},
     "output_type": "execute_result"
    }
   ],
   "source": [
    "#scrape the standard name and description of each science standard \n",
    "pages = np.arange(0, 36, 1)  \n",
    "standard_list = [] \n",
    "\n",
    "for i in pages:   \n",
    "    page = requests.get(f\"https://www.nextgenscience.org/search-standards?keys=&page={i}\") \n",
    "    soup = BeautifulSoup(page.text, 'html.parser')\n",
    "    standards = soup.find_all('div', class_=\"col-sm-9\") \n",
    "    sleep(randint(2,10))  \n",
    "    for standard in standards:  \n",
    "        standard_list.append(standard.text.split('\\n\\n\\n\\n\\n')[:2])   \n",
    "        \n",
    "#standards by grade & core concept(dci)\n",
    "ngs = pd.DataFrame(standard_list, columns=['dci', 'standard'])  \n",
    "ngs['dci'] = ngs['dci'].map(lambda x: x.replace('\\n\\n\\n', '').strip('\\t'))   \n",
    "\n",
    "#split the standard column to have the tag and name in two seperate columns \n",
    "ngs[['tag','dci']] = ngs[\"dci\"].str.split(\" \", 1, expand=True)\n",
    "ngs[\"dci\"] = ngs[\"dci\"].str.strip(\"-\")\n",
    "ngs['tag'] = ngs['tag'].str.strip(\"\\n\\r\\n\") \n",
    "ngs['dci'] = ngs['dci'].str.strip('Grade:\\xa0    \\n\\n') \n",
    "#remove the DCI arrangemnts (double listed) \n",
    "ngs_standards = ngs.loc[: 206]  \n",
    "ngs_standards.head() \n",
    "pickle.dump(ngs_standards, open( \"ngsstandards.p\", \"wb\" ) )"
   ]
  },
  {
   "cell_type": "markdown",
   "metadata": {},
   "source": [
    "#### Load the Expanded NGS Standards PDF into a TXT File"
   ]
  },
  {
   "cell_type": "code",
   "execution_count": 18,
   "metadata": {},
   "outputs": [],
   "source": [
    "#load the expanded ngs standards pdf into a txt file \n",
    "pdf_to_text(filepath='/Users/kristen/Downloads/NGS.pdf', filename='ngs')"
   ]
  },
  {
   "cell_type": "markdown",
   "metadata": {},
   "source": [
    "### Aligned NGS State Standards  \n",
    "As of January 2021 the [following states](https://victoryprd.com/blog/update-on-next-generation-science-standards-ngss/) have aligned thier local standards to the NGS Standards."
   ]
  },
  {
   "cell_type": "code",
   "execution_count": 42,
   "metadata": {},
   "outputs": [
    {
     "ename": "NameError",
     "evalue": "name 'sys' is not defined",
     "output_type": "error",
     "traceback": [
      "\u001b[0;31m---------------------------------------------------------------------------\u001b[0m",
      "\u001b[0;31mNameError\u001b[0m                                 Traceback (most recent call last)",
      "\u001b[0;32m<ipython-input-42-fd9c3bd489cc>\u001b[0m in \u001b[0;36m<module>\u001b[0;34m\u001b[0m\n\u001b[1;32m     37\u001b[0m                 \u001b[0mpage\u001b[0m \u001b[0;34m=\u001b[0m \u001b[0mreader\u001b[0m\u001b[0;34m.\u001b[0m\u001b[0mgetPage\u001b[0m\u001b[0;34m(\u001b[0m\u001b[0mpage\u001b[0m\u001b[0;34m)\u001b[0m\u001b[0;34m\u001b[0m\u001b[0;34m\u001b[0m\u001b[0m\n\u001b[1;32m     38\u001b[0m                 \u001b[0mfile\u001b[0m \u001b[0;34m=\u001b[0m \u001b[0mopen\u001b[0m\u001b[0;34m(\u001b[0m\u001b[0;34m'georgia.txt'\u001b[0m\u001b[0;34m,\u001b[0m \u001b[0;34m'a'\u001b[0m\u001b[0;34m)\u001b[0m\u001b[0;34m\u001b[0m\u001b[0;34m\u001b[0m\u001b[0m\n\u001b[0;32m---> 39\u001b[0;31m                 \u001b[0msys\u001b[0m\u001b[0;34m.\u001b[0m\u001b[0mstdout\u001b[0m \u001b[0;34m=\u001b[0m \u001b[0mfile\u001b[0m\u001b[0;34m\u001b[0m\u001b[0;34m\u001b[0m\u001b[0m\n\u001b[0m\u001b[1;32m     40\u001b[0m                 \u001b[0mprint\u001b[0m\u001b[0;34m(\u001b[0m\u001b[0mpage\u001b[0m\u001b[0;34m.\u001b[0m\u001b[0mextractText\u001b[0m\u001b[0;34m(\u001b[0m\u001b[0;34m)\u001b[0m\u001b[0;34m)\u001b[0m\u001b[0;34m\u001b[0m\u001b[0;34m\u001b[0m\u001b[0m\n\u001b[1;32m     41\u001b[0m                 \u001b[0mfile\u001b[0m\u001b[0;34m.\u001b[0m\u001b[0mclose\u001b[0m\u001b[0;34m(\u001b[0m\u001b[0;34m)\u001b[0m\u001b[0;34m\u001b[0m\u001b[0;34m\u001b[0m\u001b[0m\n",
      "\u001b[0;31mNameError\u001b[0m: name 'sys' is not defined"
     ]
    }
   ],
   "source": [
    "#alabama \n",
    "pdf_to_text(filepath='/Users/kristen/Downloads/Alabama.pdf', filename='alabama')  \n",
    "\n",
    "#alaska \n",
    "pdf_to_text(filepath='/Users/kristen/Downloads/alaska.pdf', filename='alaska')  \n",
    "\n",
    "#arizona \n",
    "pdf_to_text(filepath='/Users/kristen/Downloads/Arizona.pdf', filename='arizona')  \n",
    "\n",
    "#colorado\n",
    "pdf_to_text(filepath='/Users/kristen/Downloads/colorado.pdf', filename='colorado')  \n",
    "\n",
    "#flordia  \n",
    "pdf_to_text(filepath='/Users/kristen/Downloads/flordia.pdf', filename='flordia') \n",
    "\n",
    "#georgia  \n",
    "FILE_PATH_G = ['/Users/kristen/Downloads/georgiak.pdf', '/Users/kristen/Downloads/georgia1.pdf',\n",
    "            '/Users/kristen/Downloads/georgia2.pdf', '/Users/kristen/Downloads/georgia3.pdf', \n",
    "            '/Users/kristen/Downloads/georgia4.pdf', '/Users/kristen/Downloads/georgia5.pdf', \n",
    "            '/Users/kristen/Downloads/georgia6.pdf', '/Users/kristen/Downloads/georgia7.pdf', \n",
    "            '/Users/kristen/Downloads/georgia8.pdf', '/Users/kristen/Downloads/georgiaa.pdf', \n",
    "            '/Users/kristen/Downloads/georgiab.pdf', '/Users/kristen/Downloads/georgiabo.pdf', \n",
    "            '/Users/kristen/Downloads/georgiac.pdf', '/Users/kristen/Downloads/georgiaes.pdf', \n",
    "            '/Users/kristen/Downloads/georgiaec.pdf', '/Users/kristen/Downloads/georgiaen.pdf', \n",
    "            '/Users/kristen/Downloads/georgiaevs.pdf', '/Users/kristen/Downloads/georgiaep.pdf', \n",
    "            '/Users/kristen/Downloads/georgiafs.pdf', '/Users/kristen/Downloads/georgiag.pdf', \n",
    "            '/Users/kristen/Downloads/georgiahap.pdf', '/Users/kristen/Downloads/georgiame.pdf', \n",
    "            '/Users/kristen/Downloads/georgiami.pdf', '/Users/kristen/Downloads/georgiao.pdf', \n",
    "            '/Users/kristen/Downloads/georgiaps.pdf', '/Users/kristen/Downloads/georgiap.pdf', \n",
    "            '/Users/kristen/Downloads/georgiaz.pdf']  \n",
    "\n",
    "for file in FILE_PATH_G: \n",
    "        with open(file, mode='rb') as f:\n",
    "            reader = PyPDF2.PdfFileReader(f) \n",
    "            number_of_pages = reader.getNumPages()  \n",
    "            for page in range(number_of_pages):   \n",
    "                page = reader.getPage(page) \n",
    "                file = open('georgia.txt', 'a')\n",
    "                sys.stdout = file\n",
    "                print(page.extractText()) \n",
    "                file.close()  \n",
    "                \n",
    "#idaho \n",
    "pdf_to_text(filepath='/Users/kristen/Downloads/colorado.pdf', filename='idaho')          \n",
    "\n",
    "#indiana  \n",
    "pages = np.arange(0, 34, 1)  \n",
    "in_standard_list = [] \n",
    "\n",
    "for i in pages:   \n",
    "    page = requests.get(\"https://www.doe.in.gov/science/framework\") \n",
    "    soup = BeautifulSoup(page.text, 'html.parser')\n",
    "    standards = soup.find_all('div', class_=\"view-content\") \n",
    "    sleep(randint(2,10))  \n",
    "    for standard in standards:  \n",
    "        in_standard_list.append(standard.text)    \n",
    "pickle.dump(in_standards, open( \"instandards.p\", \"wb\" ) ) \n",
    "\n",
    "#lousiana \n",
    "FILE_PATH = ['/Users/kristen/Downloads/louisiana1.pdf', '/Users/kristen/Downloads/louisiana2.pdf',\n",
    "            '/Users/kristen/Downloads/louisiana3.pdf', \n",
    "            '/Users/kristen/Downloads/louisiana4.pdf', '/Users/kristen/Downloads/louisiana5.pdf', \n",
    "            '/Users/kristen/Downloads/louisiana6.pdf', '/Users/kristen/Downloads/louisiana7.pdf', \n",
    "            '/Users/kristen/Downloads/louisiana8.pdf', '/Users/kristen/Downloads/louisiana9.pdf', \n",
    "            '/Users/kristen/Downloads/louisiana10.pdf', '/Users/kristen/Downloads/louisiana11.pdf', \n",
    "            '/Users/kristen/Downloads/louisiana12.pdf', '/Users/kristen/Downloads/louisiana13.pdf', \n",
    "            '/Users/kristen/Downloads/louisiana14.pdf', '/Users/kristen/Downloads/louisiana15.pdf', \n",
    "            '/Users/kristen/Downloads/louisiana16.pdf', '/Users/kristen/Downloads/louisiana17.pdf', \n",
    "            '/Users/kristen/Downloads/louisiana18.pdf', '/Users/kristen/Downloads/louisiana19.pdf']\n",
    "\n",
    "\n",
    "for file in FILE_PATH: \n",
    "        with open(file, mode='rb') as f:\n",
    "            reader = PyPDF2.PdfFileReader(f) \n",
    "            number_of_pages = reader.getNumPages()  \n",
    "            for page in range(number_of_pages):   \n",
    "                page = reader.getPage(page) \n",
    "                file = open('louisiana', 'a')\n",
    "                sys.stdout = file\n",
    "                print(page.extractText()) \n",
    "                file.close()   \n",
    "                \n",
    "#massachusetts\n",
    "pdf_to_text(filepath='/Users/kristen/Downloads/mass.pdf', filename='mass')  \n",
    "\n",
    "#minnesota   \n",
    "pdf_to_text(filepath='/Users/kristen/Downloads/mass.pdf', filename='minnesota')  \n",
    "\n",
    "#mississippi \n",
    "pdf_to_text(filepath='/Users/kristen/Downloads/mass.pdf', filename='mississippi')  \n",
    "\n",
    "#missouri \n",
    "FILE_PATH = ['/Users/kristen/Downloads/mo1.pdf', '/Users/kristen/Downloads/mo2.pdf']  \n",
    "\n",
    "for file in FILE_PATH: \n",
    "        with open(file, mode='rb') as f:\n",
    "            reader = PyPDF2.PdfFileReader(f) \n",
    "            number_of_pages = reader.getNumPages()  \n",
    "            for page in range(number_of_pages):   \n",
    "                page = reader.getPage(page) \n",
    "                file = open('missouri', 'a')\n",
    "                sys.stdout = file\n",
    "                print(page.extractText()) \n",
    "                file.close() \n",
    "                \n",
    "#montana \n",
    "pdf_to_text(filepath='/Users/kristen/Downloads/mass.pdf', filename='montana')  \n",
    "\n",
    "#nebraska \n",
    "pdf_to_text(filepath='/Users/kristen/Downloads/nebraska.pdf', filename='nebraksa') \n",
    "\n",
    "#north dakota\n",
    "pdf_to_text(filepath='/Users/kristen/Downloads/northdakota.pdf', filename='northdakota') \n",
    "\n",
    "#oklahoma \n",
    "pdf_to_text(filepath='/Users/kristen/Downloads/oklahoma.pdf', filename='oklahoma') \n",
    "\n",
    "#south carolina \n",
    "pdf_to_text(filepath='/Users/kristen/Downloads/southcarolina.pdf', filename='southcarolina')  \n",
    "            \n",
    "#south dakota \n",
    "pdf_to_text(filepath='/Users/kristen/Downloads/southdakota.pdf', filename='southdakota')  \n",
    "            \n",
    "#tennessee \n",
    "pdf_to_text(filepath='/Users/kristen/Downloads/tenessee.pdf', filename='tennessee') \n",
    "\n",
    "#utah \n",
    "pdf_to_text(filepath='/Users/kristen/Downloads/utah.pdf', filename='utah')  \n",
    "            \n",
    "#west virgina \n",
    "pdf_to_text(filepath='/Users/kristen/Downloads/westvirgina.pdf', filename='westvirgina')             \n",
    "\n",
    "#wisconsin \n",
    "pdf_to_text(filepath='/Users/kristen/Downloads/wisconsin.pdf', filename='wisconsin')  \n",
    "            \n",
    "#wyoming \n",
    "pdf_to_text(filepath='/Users/kristen/Downloads/wyoming.pdf', filename='wyoming') "
   ]
  },
  {
   "cell_type": "markdown",
   "metadata": {},
   "source": [
    "### Non Aligned State Standards  \n",
    "As of January 2021 the [following states](https://victoryprd.com/blog/update-on-next-generation-science-standards-ngss/) have not aligned thier local standards to the NGS Standards."
   ]
  },
  {
   "cell_type": "code",
   "execution_count": 13,
   "metadata": {
    "collapsed": true
   },
   "outputs": [
    {
     "ename": "BadZipFile",
     "evalue": "File is not a zip file",
     "output_type": "error",
     "traceback": [
      "\u001b[0;31m---------------------------------------------------------------------------\u001b[0m",
      "\u001b[0;31mBadZipFile\u001b[0m                                Traceback (most recent call last)",
      "\u001b[0;32m<ipython-input-13-f7847dff1cfe>\u001b[0m in \u001b[0;36m<module>\u001b[0;34m\u001b[0m\n\u001b[1;32m      1\u001b[0m \u001b[0;31m#maine\u001b[0m\u001b[0;34m\u001b[0m\u001b[0;34m\u001b[0m\u001b[0;34m\u001b[0m\u001b[0m\n\u001b[0;32m----> 2\u001b[0;31m \u001b[0mmaine\u001b[0m \u001b[0;34m=\u001b[0m \u001b[0mdocx2txt\u001b[0m\u001b[0;34m.\u001b[0m\u001b[0mprocess\u001b[0m\u001b[0;34m(\u001b[0m\u001b[0;34m\"/Users/kristen/Downloads/maine.doc\"\u001b[0m\u001b[0;34m)\u001b[0m\u001b[0;34m\u001b[0m\u001b[0;34m\u001b[0m\u001b[0m\n\u001b[0m",
      "\u001b[0;32m~/opt/anaconda3/lib/python3.8/site-packages/docx2txt/docx2txt.py\u001b[0m in \u001b[0;36mprocess\u001b[0;34m(docx, img_dir)\u001b[0m\n\u001b[1;32m     74\u001b[0m \u001b[0;34m\u001b[0m\u001b[0m\n\u001b[1;32m     75\u001b[0m     \u001b[0;31m# unzip the docx in memory\u001b[0m\u001b[0;34m\u001b[0m\u001b[0;34m\u001b[0m\u001b[0;34m\u001b[0m\u001b[0m\n\u001b[0;32m---> 76\u001b[0;31m     \u001b[0mzipf\u001b[0m \u001b[0;34m=\u001b[0m \u001b[0mzipfile\u001b[0m\u001b[0;34m.\u001b[0m\u001b[0mZipFile\u001b[0m\u001b[0;34m(\u001b[0m\u001b[0mdocx\u001b[0m\u001b[0;34m)\u001b[0m\u001b[0;34m\u001b[0m\u001b[0;34m\u001b[0m\u001b[0m\n\u001b[0m\u001b[1;32m     77\u001b[0m     \u001b[0mfilelist\u001b[0m \u001b[0;34m=\u001b[0m \u001b[0mzipf\u001b[0m\u001b[0;34m.\u001b[0m\u001b[0mnamelist\u001b[0m\u001b[0;34m(\u001b[0m\u001b[0;34m)\u001b[0m\u001b[0;34m\u001b[0m\u001b[0;34m\u001b[0m\u001b[0m\n\u001b[1;32m     78\u001b[0m \u001b[0;34m\u001b[0m\u001b[0m\n",
      "\u001b[0;32m~/opt/anaconda3/lib/python3.8/zipfile.py\u001b[0m in \u001b[0;36m__init__\u001b[0;34m(self, file, mode, compression, allowZip64, compresslevel, strict_timestamps)\u001b[0m\n\u001b[1;32m   1266\u001b[0m         \u001b[0;32mtry\u001b[0m\u001b[0;34m:\u001b[0m\u001b[0;34m\u001b[0m\u001b[0;34m\u001b[0m\u001b[0m\n\u001b[1;32m   1267\u001b[0m             \u001b[0;32mif\u001b[0m \u001b[0mmode\u001b[0m \u001b[0;34m==\u001b[0m \u001b[0;34m'r'\u001b[0m\u001b[0;34m:\u001b[0m\u001b[0;34m\u001b[0m\u001b[0;34m\u001b[0m\u001b[0m\n\u001b[0;32m-> 1268\u001b[0;31m                 \u001b[0mself\u001b[0m\u001b[0;34m.\u001b[0m\u001b[0m_RealGetContents\u001b[0m\u001b[0;34m(\u001b[0m\u001b[0;34m)\u001b[0m\u001b[0;34m\u001b[0m\u001b[0;34m\u001b[0m\u001b[0m\n\u001b[0m\u001b[1;32m   1269\u001b[0m             \u001b[0;32melif\u001b[0m \u001b[0mmode\u001b[0m \u001b[0;32min\u001b[0m \u001b[0;34m(\u001b[0m\u001b[0;34m'w'\u001b[0m\u001b[0;34m,\u001b[0m \u001b[0;34m'x'\u001b[0m\u001b[0;34m)\u001b[0m\u001b[0;34m:\u001b[0m\u001b[0;34m\u001b[0m\u001b[0;34m\u001b[0m\u001b[0m\n\u001b[1;32m   1270\u001b[0m                 \u001b[0;31m# set the modified flag so central directory gets written\u001b[0m\u001b[0;34m\u001b[0m\u001b[0;34m\u001b[0m\u001b[0;34m\u001b[0m\u001b[0m\n",
      "\u001b[0;32m~/opt/anaconda3/lib/python3.8/zipfile.py\u001b[0m in \u001b[0;36m_RealGetContents\u001b[0;34m(self)\u001b[0m\n\u001b[1;32m   1333\u001b[0m             \u001b[0;32mraise\u001b[0m \u001b[0mBadZipFile\u001b[0m\u001b[0;34m(\u001b[0m\u001b[0;34m\"File is not a zip file\"\u001b[0m\u001b[0;34m)\u001b[0m\u001b[0;34m\u001b[0m\u001b[0;34m\u001b[0m\u001b[0m\n\u001b[1;32m   1334\u001b[0m         \u001b[0;32mif\u001b[0m \u001b[0;32mnot\u001b[0m \u001b[0mendrec\u001b[0m\u001b[0;34m:\u001b[0m\u001b[0;34m\u001b[0m\u001b[0;34m\u001b[0m\u001b[0m\n\u001b[0;32m-> 1335\u001b[0;31m             \u001b[0;32mraise\u001b[0m \u001b[0mBadZipFile\u001b[0m\u001b[0;34m(\u001b[0m\u001b[0;34m\"File is not a zip file\"\u001b[0m\u001b[0;34m)\u001b[0m\u001b[0;34m\u001b[0m\u001b[0;34m\u001b[0m\u001b[0m\n\u001b[0m\u001b[1;32m   1336\u001b[0m         \u001b[0;32mif\u001b[0m \u001b[0mself\u001b[0m\u001b[0;34m.\u001b[0m\u001b[0mdebug\u001b[0m \u001b[0;34m>\u001b[0m \u001b[0;36m1\u001b[0m\u001b[0;34m:\u001b[0m\u001b[0;34m\u001b[0m\u001b[0;34m\u001b[0m\u001b[0m\n\u001b[1;32m   1337\u001b[0m             \u001b[0mprint\u001b[0m\u001b[0;34m(\u001b[0m\u001b[0mendrec\u001b[0m\u001b[0;34m)\u001b[0m\u001b[0;34m\u001b[0m\u001b[0;34m\u001b[0m\u001b[0m\n",
      "\u001b[0;31mBadZipFile\u001b[0m: File is not a zip file"
     ]
    }
   ],
   "source": [
    "#maine \n",
    "maine = textract.process(\"/Users/kristen/Downloads/maine.doc\") \n",
    "me_doc_raw = open_and_flatten('maine')"
   ]
  },
  {
   "cell_type": "code",
   "execution_count": null,
   "metadata": {},
   "outputs": [],
   "source": [
    "#michigan \n",
    "pdf_to_text(pdf_to_text(filepath='/Users/kristen/Downloads/michigan.pdf', filename='michigan') \n",
    "mi_doc_raw = open_and_flatten('michigan')"
   ]
  },
  {
   "cell_type": "code",
   "execution_count": null,
   "metadata": {},
   "outputs": [],
   "source": [
    "#north carolina  \n",
    "FILE_PATH = ['/Users/kristen/Downloads/nck.pdf', '/Users/kristen/Downloads/nc1.pdf',\n",
    "            '/Users/kristen/Downloads/nc2.pdf', '/Users/kristen/Downloads/nc3.pdf', \n",
    "            '/Users/kristen/Downloads/nc4.pdf', '/Users/kristen/Downloads/nc5.pdf', \n",
    "            '/Users/kristen/Downloads/nc6.pdf', '/Users/kristen/Downloads/nc7.pdf', \n",
    "            '/Users/kristen/Downloads/nca8.pdf', '/Users/kristen/Downloads/ncp.pdf']  \n",
    "\n",
    "for file in FILE_PATH: \n",
    "        with open(file, mode='rb') as f:\n",
    "            reader = PyPDF2.PdfFileReader(f) \n",
    "            number_of_pages = reader.getNumPages()  \n",
    "            for page in range(number_of_pages):   \n",
    "                page = reader.getPage(page) \n",
    "                file = open('northcarolina', 'a')\n",
    "                sys.stdout = file\n",
    "                print(page.extractText()) \n",
    "                file.close()  \n",
    "                \n",
    "nc_doc_raw = open_and_flatten('northcarolina')"
   ]
  },
  {
   "cell_type": "code",
   "execution_count": null,
   "metadata": {},
   "outputs": [],
   "source": [
    "#ohio \n",
    "pdf_to_text(pdf_to_text(filepath='/Users/kristen/Downloads/ohio.pdf', filename='ohio') \n",
    "oh_doc_raw = open_and_flatten('ohio')"
   ]
  },
  {
   "cell_type": "code",
   "execution_count": null,
   "metadata": {},
   "outputs": [],
   "source": [
    "#pennsylvania \n",
    "pdf_to_text(pdf_to_text(filepath='/Users/kristen/Downloads/pennsylvania.pdf', filename='pennsylvania') \n",
    "pa_doc_raw = open_and_flatten('pennsylvania')"
   ]
  },
  {
   "cell_type": "code",
   "execution_count": null,
   "metadata": {},
   "outputs": [],
   "source": [
    "#texas \n",
    "FILE_PATH = ['/Users/kristen/Downloads/texasa.pdf', '/Users/kristen/Downloads/texasb.pdf',\n",
    "            '/Users/kristen/Downloads/texasc.pdf', '/Users/kristen/Downloads/texasd.pdf']  \n",
    "\n",
    "for file in FILE_PATH: \n",
    "        with open(file, mode='rb') as f:\n",
    "            reader = PyPDF2.PdfFileReader(f) \n",
    "            number_of_pages = reader.getNumPages()  \n",
    "            for page in range(number_of_pages):   \n",
    "                page = reader.getPage(page) \n",
    "                file = open('texas', 'a')\n",
    "                sys.stdout = file\n",
    "                print(page.extractText()) \n",
    "                file.close()  \n",
    "                \n",
    "tx_doc_raw = open_and_flatten('texas')"
   ]
  },
  {
   "cell_type": "code",
   "execution_count": null,
   "metadata": {},
   "outputs": [],
   "source": [
    "#virginia \n",
    "pdf_to_text(pdf_to_text(filepath='/Users/kristen/Downloads/virginia.pdf', filename='virginia') \n",
    "va_doc_raw = open_and_flatten('virginia')"
   ]
  },
  {
   "cell_type": "markdown",
   "metadata": {},
   "source": [
    "## Working Libraries \n",
    "* ngs_standards -- a list of the standards by level and dci \n",
    "* ngs_doc_raw -- ngs standards pdf unprocessed/ \n",
    "* classroom_questions -- real classroom question set \n",
    "\n",
    "* co_csv -- colorado state standards in csv format\n",
    "\n",
    "Aligned State Standards Libraries- \n",
    "* al_doc_raw \n",
    "* ak_doc_raw \n",
    "* az_doc_raw \n",
    "* co_doc_raw  \n",
    "* fl_doc_raw \n",
    "* ga_doc_raw \n",
    "* id_doc_raw  \n",
    "* la_doc_raw\n",
    "* ma_doc_raw \n",
    "* mn_doc_raw \n",
    "* ms_doc_raw \n",
    "* mo_doc_raw \n",
    "* mt_doc_raw \n",
    "* ne_doc_raw \n",
    "* nd_doc_raw \n",
    "* ok_doc_raw \n",
    "* sc_doc_raw \n",
    "* sd_doc_raw \n",
    "* tn_doc_raw \n",
    "* ut_doc_raw \n",
    "* wv_doc_raw \n",
    "* wi_doc_raw \n",
    "* wy_doc_raw \n",
    "\n",
    "Not Aligned State Standards Libraries- \n",
    "* me_doc_raw\n",
    "* mi_doc_raw \n",
    "* nc_doc_raw \n",
    "* oh_doc_raw \n",
    "* pa_doc_raw \n",
    "* tx_doc_raw \n",
    "* va_doc_raw"
   ]
  },
  {
   "cell_type": "markdown",
   "metadata": {},
   "source": [
    "# Question Sets "
   ]
  },
  {
   "cell_type": "markdown",
   "metadata": {},
   "source": [
    "### NY State 8th Grade State Test  \n",
    "A NGS aligned state's standardized test"
   ]
  },
  {
   "cell_type": "code",
   "execution_count": null,
   "metadata": {},
   "outputs": [],
   "source": [
    "FILE_PATH = ['/Users/kristen/Downloads/2019.pdf', '/Users/kristen/Downloads/2018.pdf', \n",
    "             '/Users/kristen/Downloads/2017.pdf', '/Users/kristen/Downloads/2016.pdf', \n",
    "            '/Users/kristen/Downloads/2015.pdf', '/Users/kristen/Downloads/2014.pdf', \n",
    "            '/Users/kristen/Downloads/2013.pdf', '/Users/kristen/Downloads/2012.pdf', \n",
    "            '/Users/kristen/Downloads/2011.pdf', '/Users/kristen/Downloads/2010.pdf', \n",
    "            '/Users/kristen/Downloads/2009.pdf', '/Users/kristen/Downloads/2008.pdf', \n",
    "            '/Users/kristen/Downloads/2007.pdf', '/Users/kristen/Downloads/2006.pdf', \n",
    "            '/Users/kristen/Downloads/2005.pdf', '/Users/kristen/Downloads/2004.pdf', \n",
    "            '/Users/kristen/Downloads/2003.pdf', '/Users/kristen/Downloads/2002.pdf', \n",
    "            '/Users/kristen/Downloads/2001.pdf']  \n",
    "\n",
    "for file in FILE_PATH: \n",
    "        with open(file, mode='rb') as f:\n",
    "            reader = PyPDF2.PdfFileReader(f) \n",
    "            number_of_pages = reader.getNumPages()  \n",
    "            for page in range(number_of_pages):   \n",
    "                page = reader.getPage(page) \n",
    "                file = open('nytest.txt', 'a')\n",
    "                sys.stdout = file\n",
    "                print(page.extractText()) \n",
    "                file.close()"
   ]
  },
  {
   "cell_type": "code",
   "execution_count": null,
   "metadata": {},
   "outputs": [],
   "source": [
    "ny_test_raw = open_and_flatten('new_york_state') \n",
    "ny_test_raw"
   ]
  },
  {
   "cell_type": "markdown",
   "metadata": {},
   "source": [
    "### Classroom Question Repository \n",
    "This is a collection of 'real world' questions used in classwork, labs, tests in quizzes in a 6th Grade Science classroom."
   ]
  },
  {
   "cell_type": "code",
   "execution_count": null,
   "metadata": {},
   "outputs": [],
   "source": [
    "#load in question data \n",
    "classroom_questions_csv = pd.read_csv('Capstone Data - Questions Set (2).csv')\n",
    "classroom_questions = pd.DataFrame(classroom_questions_csv) \n",
    "classroom_questions.head()"
   ]
  }
 ],
 "metadata": {
  "kernelspec": {
   "display_name": "Python 3",
   "language": "python",
   "name": "python3"
  },
  "language_info": {
   "codemirror_mode": {
    "name": "ipython",
    "version": 3
   },
   "file_extension": ".py",
   "mimetype": "text/x-python",
   "name": "python",
   "nbconvert_exporter": "python",
   "pygments_lexer": "ipython3",
   "version": "3.8.3"
  }
 },
 "nbformat": 4,
 "nbformat_minor": 4
}
