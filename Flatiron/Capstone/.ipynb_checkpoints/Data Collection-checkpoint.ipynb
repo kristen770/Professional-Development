{
 "cells": [
  {
   "cell_type": "markdown",
   "metadata": {},
   "source": [
    "# Data Collection \n",
    "For this project I used BeautifulSoup, PyPDF2, and pdftotext to both scrape data from the web as well as convert PDF data into txt files. My primary focus in collection were the science standards written for NGS, aligned NGS standards and unaligned standards. In addition I collected the state wide grade 8 science examination (2002-2019) and a broad range of questions used in my own 6th grade classroom to preform classification and question alignment."
   ]
  },
  {
   "cell_type": "code",
   "execution_count": 8,
   "metadata": {},
   "outputs": [],
   "source": [
    "#custom functions \n",
    "from myfunctions import *"
   ]
  },
  {
   "cell_type": "code",
   "execution_count": 6,
   "metadata": {},
   "outputs": [],
   "source": [
    "#webscraping\n",
    "from bs4 import BeautifulSoup \n",
    "import requests   \n",
    "from time import sleep \n",
    "import textract \n",
    "\n",
    "#data analysis\n",
    "import pandas as pd  \n",
    "import numpy as np \n",
    "from random import randint  \n",
    "\n",
    "#saving files\n",
    "import pickle \n",
    "import PyPDF2 \n",
    "import sys"
   ]
  },
  {
   "cell_type": "markdown",
   "metadata": {},
   "source": [
    "# Standards"
   ]
  },
  {
   "cell_type": "markdown",
   "metadata": {},
   "source": [
    "### Next Generation Science Standards K-12  \n",
    "The [NGS](https://www.nextgenscience.org/) Standards are redesigned, national standards for K-12, in addition a [book](https://www.nap.edu/read/13165/chapter/1) detailing the reasoning, methodology and practices was released "
   ]
  },
  {
   "cell_type": "markdown",
   "metadata": {},
   "source": [
    "#### Standards & Basic Description Via Website"
   ]
  },
  {
   "cell_type": "code",
   "execution_count": 4,
   "metadata": {},
   "outputs": [],
   "source": [
    "#scrape the standard name and description of each science standard \n",
    "pages = np.arange(0, 36, 1)  \n",
    "standard_list = [] \n",
    "\n",
    "for i in pages:   \n",
    "    page = requests.get(f\"https://www.nextgenscience.org/search-standards?keys=&page={i}\") \n",
    "    soup = BeautifulSoup(page.text, 'html.parser')\n",
    "    standards = soup.find_all('div', class_=\"col-sm-9\") \n",
    "    sleep(randint(2,10))  \n",
    "    for standard in standards:  \n",
    "        standard_list.append(standard.text.split('\\n\\n\\n\\n\\n')[:2])   \n",
    "        \n",
    "#standards by grade & core concept(dci)\n",
    "ngs = pd.DataFrame(standard_list, columns=['dci', 'standard'])  \n",
    "ngs['dci'] = ngs['dci'].map(lambda x: x.replace('\\n\\n\\n', '').strip('\\t'))   \n",
    "\n",
    "#split the standard column to have the tag and name in two seperate columns \n",
    "ngs[['tag','dci']] = ngs[\"dci\"].str.split(\" \", 1, expand=True)\n",
    "ngs[\"dci\"] = ngs[\"dci\"].str.strip(\"-\")\n",
    "ngs['tag'] = ngs['tag'].str.strip(\"\\n\\r\\n\") \n",
    "ngs['dci'] = ngs['dci'].str.strip('Grade:\\xa0    \\n\\n') \n",
    "#remove the DCI arrangemnts (double listed) \n",
    "ngs_standards = ngs.loc[: 206]  \n",
    "ngs_standards.head()  \n",
    "\n",
    "pickle.dump(ngs_standards, open( \"ngsstandards.p\", \"wb\" ) )"
   ]
  },
  {
   "cell_type": "markdown",
   "metadata": {},
   "source": [
    "#### Load the Expanded NGS Standards PDF into a TXT File"
   ]
  },
  {
   "cell_type": "code",
   "execution_count": 9,
   "metadata": {
    "scrolled": true
   },
   "outputs": [],
   "source": [
    "#load the expanded ngs standards pdf into a txt file \n",
    "pdf_to_text(filepath='/Users/kristen/Downloads/NGS.pdf', filename='ngs_pdf')"
   ]
  },
  {
   "cell_type": "markdown",
   "metadata": {},
   "source": [
    "### Aligned NGS State Standards  \n",
    "As of January 2021 the [following states](https://victoryprd.com/blog/update-on-next-generation-science-standards-ngss/) have aligned thier local standards to the NGS Standards."
   ]
  },
  {
   "cell_type": "code",
   "execution_count": 4,
   "metadata": {},
   "outputs": [],
   "source": [
    "#alabama \n",
    "pdf_to_text(filepath='/Users/kristen/Downloads/Alabama.pdf', filename='alabama') "
   ]
  },
  {
   "cell_type": "code",
   "execution_count": 5,
   "metadata": {},
   "outputs": [],
   "source": [
    "#alaska \n",
    "pdf_to_text(filepath='/Users/kristen/Downloads/alaska.pdf', filename='alaska')  "
   ]
  },
  {
   "cell_type": "code",
   "execution_count": 6,
   "metadata": {},
   "outputs": [],
   "source": [
    "#arizona \n",
    "pdf_to_text(filepath='/Users/kristen/Downloads/Arizona.pdf', filename='arizona') "
   ]
  },
  {
   "cell_type": "code",
   "execution_count": 7,
   "metadata": {},
   "outputs": [],
   "source": [
    "#colorado\n",
    "pdf_to_text(filepath='/Users/kristen/Downloads/colorado.pdf', filename='colorado')  "
   ]
  },
  {
   "cell_type": "code",
   "execution_count": 8,
   "metadata": {},
   "outputs": [],
   "source": [
    "#flordia  \n",
    "pdf_to_text(filepath='/Users/kristen/Downloads/flordia.pdf', filename='flordia') "
   ]
  },
  {
   "cell_type": "code",
   "execution_count": null,
   "metadata": {},
   "outputs": [],
   "source": [
    "#georgia  \n",
    "FILE_PATH_G = ['/Users/kristen/Downloads/georgiak.pdf', '/Users/kristen/Downloads/georgia1.pdf',\n",
    "            '/Users/kristen/Downloads/georgia2.pdf', '/Users/kristen/Downloads/georgia3.pdf', \n",
    "            '/Users/kristen/Downloads/georgia4.pdf', '/Users/kristen/Downloads/georgia5.pdf', \n",
    "            '/Users/kristen/Downloads/georgia6.pdf', '/Users/kristen/Downloads/georgia7.pdf', \n",
    "            '/Users/kristen/Downloads/georgia8.pdf', '/Users/kristen/Downloads/georgiaa.pdf', \n",
    "            '/Users/kristen/Downloads/georgiab.pdf', '/Users/kristen/Downloads/georgiabo.pdf', \n",
    "            '/Users/kristen/Downloads/georgiac.pdf', '/Users/kristen/Downloads/georgiaes.pdf', \n",
    "            '/Users/kristen/Downloads/georgiaec.pdf', '/Users/kristen/Downloads/georgiaen.pdf', \n",
    "            '/Users/kristen/Downloads/georgiaevs.pdf', '/Users/kristen/Downloads/georgiaep.pdf', \n",
    "            '/Users/kristen/Downloads/georgiafs.pdf', '/Users/kristen/Downloads/georgiag.pdf', \n",
    "            '/Users/kristen/Downloads/georgiahap.pdf', '/Users/kristen/Downloads/georgiame.pdf', \n",
    "            '/Users/kristen/Downloads/georgiami.pdf', '/Users/kristen/Downloads/georgiao.pdf', \n",
    "            '/Users/kristen/Downloads/georgiaps.pdf', '/Users/kristen/Downloads/georgiap.pdf', \n",
    "            '/Users/kristen/Downloads/georgiaz.pdf']  \n",
    "\n",
    "for file in FILE_PATH_G: \n",
    "        with open(file, mode='rb') as f:\n",
    "            reader = PyPDF2.PdfFileReader(f) \n",
    "            number_of_pages = reader.getNumPages()  \n",
    "            for page in range(number_of_pages):   \n",
    "                page = reader.getPage(page) \n",
    "                file = open('georgia.txt', 'a')\n",
    "                sys.stdout = file\n",
    "                print(page.extractText()) \n",
    "                file.close()  "
   ]
  },
  {
   "cell_type": "code",
   "execution_count": 9,
   "metadata": {},
   "outputs": [],
   "source": [
    "#idaho \n",
    "pdf_to_text(filepath='/Users/kristen/Downloads/colorado.pdf', filename='idaho')          "
   ]
  },
  {
   "cell_type": "code",
   "execution_count": 3,
   "metadata": {},
   "outputs": [],
   "source": [
    "#indiana  \n",
    "pages = np.arange(0, 34, 1)  \n",
    "in_standard_list = [] \n",
    "\n",
    "for i in pages:   \n",
    "    page = requests.get(\"https://www.doe.in.gov/science/framework\") \n",
    "    soup = BeautifulSoup(page.text, 'html.parser')\n",
    "    standards = soup.find_all('div', class_=\"view-content\") \n",
    "    sleep(randint(2,10))  \n",
    "    for standard in standards:  \n",
    "        in_standard_list.append(standard.text)   \n",
    "        \n",
    "pickle.dump(in_standard_list, open( \"in_standard_list.p\", \"wb\" ) ) "
   ]
  },
  {
   "cell_type": "code",
   "execution_count": 19,
   "metadata": {},
   "outputs": [],
   "source": [
    "#lousiana\n",
    "pdf_to_text(filepath='/Users/kristen/Downloads/k-12-louisiana-student-standards-for-science 2/louisiana.pdf', filename='louisiana')          "
   ]
  },
  {
   "cell_type": "code",
   "execution_count": 20,
   "metadata": {},
   "outputs": [],
   "source": [
    "#massachusetts\n",
    "pdf_to_text(filepath='/Users/kristen/Downloads/mass.pdf', filename='mass')  "
   ]
  },
  {
   "cell_type": "code",
   "execution_count": 21,
   "metadata": {},
   "outputs": [],
   "source": [
    "#minnesota   \n",
    "pdf_to_text(filepath='/Users/kristen/Downloads/mass.pdf', filename='minnesota')  "
   ]
  },
  {
   "cell_type": "code",
   "execution_count": 22,
   "metadata": {},
   "outputs": [],
   "source": [
    "#mississippi \n",
    "pdf_to_text(filepath='/Users/kristen/Downloads/mass.pdf', filename='mississippi')  "
   ]
  },
  {
   "cell_type": "code",
   "execution_count": 4,
   "metadata": {},
   "outputs": [],
   "source": [
    "#missouri \n",
    "pdf_to_text(filepath='/Users/kristen/Downloads/mo1 2021-01-13 at 5.38.23 PM.pdf', filename='missouri')  "
   ]
  },
  {
   "cell_type": "code",
   "execution_count": 5,
   "metadata": {},
   "outputs": [],
   "source": [
    "#montana \n",
    "pdf_to_text(filepath='/Users/kristen/Downloads/mass.pdf', filename='montana')  "
   ]
  },
  {
   "cell_type": "code",
   "execution_count": 6,
   "metadata": {},
   "outputs": [],
   "source": [
    "#nebraska \n",
    "pdf_to_text(filepath='/Users/kristen/Downloads/nebraska.pdf', filename='nebraksa') "
   ]
  },
  {
   "cell_type": "code",
   "execution_count": 7,
   "metadata": {},
   "outputs": [],
   "source": [
    "#north dakota\n",
    "pdf_to_text(filepath='/Users/kristen/Downloads/northdakota.pdf', filename='northdakota')"
   ]
  },
  {
   "cell_type": "code",
   "execution_count": 8,
   "metadata": {},
   "outputs": [],
   "source": [
    "#oklahoma \n",
    "pdf_to_text(filepath='/Users/kristen/Downloads/oklahoma.pdf', filename='oklahoma') "
   ]
  },
  {
   "cell_type": "code",
   "execution_count": 9,
   "metadata": {},
   "outputs": [],
   "source": [
    "#south carolina \n",
    "pdf_to_text(filepath='/Users/kristen/Downloads/southcarolina.pdf', filename='southcarolina')  "
   ]
  },
  {
   "cell_type": "code",
   "execution_count": 10,
   "metadata": {},
   "outputs": [],
   "source": [
    "#south dakota \n",
    "pdf_to_text(filepath='/Users/kristen/Downloads/southdakota.pdf', filename='southdakota') "
   ]
  },
  {
   "cell_type": "code",
   "execution_count": 12,
   "metadata": {},
   "outputs": [],
   "source": [
    "#tennessee \n",
    "pdf_to_text(filepath='/Users/kristen/Downloads/tennessee.pdf', filename='tennessee') "
   ]
  },
  {
   "cell_type": "code",
   "execution_count": 13,
   "metadata": {},
   "outputs": [],
   "source": [
    "#utah \n",
    "pdf_to_text(filepath='/Users/kristen/Downloads/utah.pdf', filename='utah')  "
   ]
  },
  {
   "cell_type": "code",
   "execution_count": 15,
   "metadata": {},
   "outputs": [],
   "source": [
    "#west virgina \n",
    "pdf_to_text(filepath='/Users/kristen/Downloads/westvirginia.pdf', filename='westvirginia')             "
   ]
  },
  {
   "cell_type": "code",
   "execution_count": 16,
   "metadata": {},
   "outputs": [],
   "source": [
    "#wisconsin \n",
    "pdf_to_text(filepath='/Users/kristen/Downloads/wisconsin.pdf', filename='wisconsin')  "
   ]
  },
  {
   "cell_type": "code",
   "execution_count": 17,
   "metadata": {},
   "outputs": [],
   "source": [
    "#wyoming \n",
    "pdf_to_text(filepath='/Users/kristen/Downloads/wyoming.pdf', filename='wyoming') "
   ]
  },
  {
   "cell_type": "markdown",
   "metadata": {},
   "source": [
    "### Non Aligned State Standards  \n",
    "As of January 2021 the [following states](https://victoryprd.com/blog/update-on-next-generation-science-standards-ngss/) have not aligned thier local standards to the NGS Standards."
   ]
  },
  {
   "cell_type": "code",
   "execution_count": 20,
   "metadata": {},
   "outputs": [],
   "source": [
    "#maine \n",
    "pdf_to_text(filepath='/Users/kristen/Downloads/maine.pdf', filename='maine') "
   ]
  },
  {
   "cell_type": "code",
   "execution_count": 22,
   "metadata": {},
   "outputs": [],
   "source": [
    "#michigan \n",
    "pdf_to_text(filepath='/Users/kristen/Downloads/michigan.pdf', filename='michigan') "
   ]
  },
  {
   "cell_type": "code",
   "execution_count": 23,
   "metadata": {},
   "outputs": [],
   "source": [
    "#north carolina\n",
    "pdf_to_text(filepath='/Users/kristen/Downloads/nc1 2021-01-13 at 5.48.03 PM.pdf', filename='northcarolina') "
   ]
  },
  {
   "cell_type": "code",
   "execution_count": 25,
   "metadata": {},
   "outputs": [],
   "source": [
    "#ohio \n",
    "pdf_to_text(filepath='/Users/kristen/Downloads/ohio.pdf', filename='ohio')  \n",
    "            \n",
    "#pennsylvania \n",
    "pdf_to_text(filepath='/Users/kristen/Downloads/pennsylvania.pdf', filename='pennsylvania') "
   ]
  },
  {
   "cell_type": "code",
   "execution_count": 27,
   "metadata": {},
   "outputs": [],
   "source": [
    "#texas  \n",
    "pdf_to_text(filepath='/Users/kristen/Downloads/texas.pdf', filename='texas')\n",
    "            \n",
    "#virginia \n",
    "pdf_to_text(filepath='/Users/kristen/Downloads/virginia.pdf', filename='virginia') "
   ]
  },
  {
   "cell_type": "markdown",
   "metadata": {},
   "source": [
    "# Question Sets "
   ]
  },
  {
   "cell_type": "markdown",
   "metadata": {},
   "source": [
    "### NY State 8th Grade State Test  \n",
    "A NGS aligned state's standardized test"
   ]
  },
  {
   "cell_type": "code",
   "execution_count": 29,
   "metadata": {},
   "outputs": [],
   "source": [
    "#new york tests \n",
    "pdf_to_text(filepath='/Users/kristen/Downloads/2001 2021-01-13 at 5.51.01 PM.pdf', filename='newyorktests') "
   ]
  },
  {
   "cell_type": "markdown",
   "metadata": {},
   "source": [
    "### Classroom Question Repository \n",
    "This is a collection of 'real world' questions used in classwork, labs, tests in quizzes in a 6th Grade Science classroom."
   ]
  },
  {
   "cell_type": "code",
   "execution_count": 31,
   "metadata": {},
   "outputs": [],
   "source": [
    "#load in question data \n",
    "classroom_questions_csv = pd.read_csv('Capstone Data - Questions Set (2).csv')\n",
    "classroom_questions = pd.DataFrame(classroom_questions_csv) "
   ]
  },
  {
   "cell_type": "markdown",
   "metadata": {},
   "source": [
    "### State Dictionary "
   ]
  },
  {
   "cell_type": "code",
   "execution_count": 10,
   "metadata": {},
   "outputs": [],
   "source": [
    "#state dictionary of most recent standards update and states status with NGS\n",
    "state_dict = {'alabama': {'update_year': 2015, 'standards': 'aligned'}, \n",
    "             'alaskas': {'update_year': 2017, 'standards': 'aligned'}, \n",
    "             'arizona': {'update_year': 2018, 'standards': 'aligned'}, \n",
    "             'arkansas': {'update_year': 2016, 'standards': 'adopted'}, \n",
    "             'california': {'update_year': 2013, 'standards': 'adopted'},\n",
    "             'colorado': {'update_year': 2020, 'standards': 'aligned'},\n",
    "             'conneticut': {'update_year': 2015, 'standards': 'adopted'},\n",
    "             'delaware': {'update_year': 2016, 'standards': 'adopted'}, \n",
    "             'flordia': {'update_year': 2008, 'standards': 'independent'}, \n",
    "             'georgia': {'update_year': 2016, 'standards': 'aligned'}, \n",
    "             'hawaii': {'update_year': 2016, 'standards': 'adopted'}, \n",
    "             'idaho': {'update_year': 2018, 'standards': 'aligned'}, \n",
    "             'illinois': {'update_year': 2014, 'standards': 'adopted'}, \n",
    "             'indiana': {'update_year': 2016, 'standards': 'aligned'}, \n",
    "             'iowa': {'update_year': 2015, 'standards': 'adopted'}, \n",
    "             'arkansas': {'update_year': 2016, 'standards': 'adopted'},\n",
    "             'kansas': {'update_year': 2013, 'standards': 'adopted'}, \n",
    "             'kentucky': {'update_year': 2015, 'standards': 'adopted'},\n",
    "             'louisiana': {'update_year': 2020, 'standards': 'aligned'}, \n",
    "             'maine': {'update_year': 2019, 'standards': 'independent'},\n",
    "             'maryland': {'update_year': 2013, 'standards': 'adopted'}, \n",
    "             'massachusetts': {'update_year': 2016, 'standards': 'aligned'},\n",
    "             'michigan': {'update_year': 2015, 'standards': 'independent'}, \n",
    "             'minnesota': {'update_year': 2019, 'standards': 'aligned'},\n",
    "             'mississippi': {'update_year': 2018, 'standards': 'aligned'},\n",
    "             'missouri': {'update_year': 2016, 'standards': 'aligned'}, \n",
    "             'montana': {'update_year': 2016, 'standards': 'aligned'},\n",
    "             'nebraska': {'update_year': 2017, 'standards': 'aligned'},\n",
    "             'nevada': {'update_year': 2015, 'standards': 'adopted'}, \n",
    "             'new hampshire': {'update_year': 2015, 'standards': 'adopted'}, \n",
    "             'new jersey': {'update_year': 2020, 'standards': 'adopted'}, \n",
    "             'new mexico': {'update_year': 2003, 'standards': 'adopted'}, \n",
    "             'new york': {'update_year': 2016, 'standards': 'adopted'}, \n",
    "             'north carolina': {'update_year': 2004, 'standards': 'independent'}, \n",
    "             'north dakota': {'update_year': 2019, 'standards': 'aligned'}, \n",
    "             'ohio': {'update_year': 2019, 'standards': 'independent'}, \n",
    "             'oklahoma': {'update_year': 2020, 'standards': 'aligned'}, \n",
    "             'oregon': {'update_year': 2014, 'standards': 'adopted'}, \n",
    "             'pennsylvania': {'update_year': 2002, 'standards': 'independent'}, \n",
    "             'rhode island': {'update_year': 2013, 'standards': 'adopted'}, \n",
    "             'south carolina': {'update_year': 2014, 'standards': 'aligned'}, \n",
    "             'south dakota': {'update_year': 2016, 'standards': 'aligned'}, \n",
    "             'tennessee': {'update_year': 2016, 'standards': 'aligned'}, \n",
    "             'texas': {'update_year': 2017, 'standards': 'independent'}, \n",
    "             'utah': {'update_year': 2019, 'standards': 'aligned'}, \n",
    "             'vermont': {'update_year': 2013, 'standards': 'adopted'}, \n",
    "             'virginia': {'update_year': 2018, 'standards': 'independent'},\n",
    "             'washington': {'update_year': 2013, 'standards': 'adopted'}, \n",
    "             'west virginia': {'update_year': 2015, 'standards': 'aligned'}, \n",
    "             'wisconsin': {'update_year': 2017, 'standards': 'aligned'},\n",
    "             'wyoming': {'update_year': 2017, 'standards': 'aligned'},}"
   ]
  },
  {
   "cell_type": "code",
   "execution_count": 11,
   "metadata": {},
   "outputs": [],
   "source": [
    "#turn the dictionary into a df \n",
    "state_df = pd.DataFrame.from_dict(state_dict)  \n",
    "\n",
    "#pickle df \n",
    "state_df.to_pickle(\"./state_df.pkl\")"
   ]
  }
 ],
 "metadata": {
  "kernelspec": {
   "display_name": "Python 3",
   "language": "python",
   "name": "python3"
  },
  "language_info": {
   "codemirror_mode": {
    "name": "ipython",
    "version": 3
   },
   "file_extension": ".py",
   "mimetype": "text/x-python",
   "name": "python",
   "nbconvert_exporter": "python",
   "pygments_lexer": "ipython3",
   "version": "3.8.3"
  }
 },
 "nbformat": 4,
 "nbformat_minor": 4
}
