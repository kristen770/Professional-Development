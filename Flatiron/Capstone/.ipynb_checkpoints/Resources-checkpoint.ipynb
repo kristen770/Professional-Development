{
 "cells": [
  {
   "cell_type": "code",
   "execution_count": null,
   "metadata": {},
   "outputs": [],
   "source": [
    "https://pythonprogramminglanguage.com/kmeans-text-clustering/\n",
    "    https://github.com/MrGeislinger/flatiron-school-data-science-curriculum-resources/tree/main/DeepLearning/NeuralNetworks\n",
    "        https://github.com/MrGeislinger/flatiron-school-data-science-curriculum-resources/blob/main/DeepLearning/TransferLearning/transfer_learning.ipynb\n",
    "            https://github.com/MrGeislinger/lesson-end-to-end-traffic-sign-recognition/blob/main/Traffic_Sign_Classifier.ipynb"
   ]
  },
  {
   "cell_type": "code",
   "execution_count": null,
   "metadata": {},
   "outputs": [],
   "source": [
    "Resource List: \t\n",
    "https://ed.sc.gov/tests/tests-files/scpass-files/2018-science-grade6-release-items/\t\n",
    "https://www.teachervision.com/teaching-strategies/levels-questions-blooms-taxonomy\t\n",
    "https://bestlifeonline.com/6th-grade-science/\t\n",
    "http://www.tlsbooks.com/scienceworksheets.htm\t\n",
    "https://teachingcommons.lakeheadu.ca/28-question-stems-critical-thinking\t\n",
    "https://wabisabilearning.com/blogs/critical-thinking/critical-thinking-questions-subject\t\n",
    "https://www.weareteachers.com/critical-thinking-questions/\t\n",
    "https://minds-in-bloom.com/20-quick-fun-creative-and-critica/\t \n",
    "    https://sanjayasubedi.com.np/nlp/nlp-with-python-document-clustering/"
   ]
  },
  {
   "cell_type": "code",
   "execution_count": null,
   "metadata": {},
   "outputs": [],
   "source": [
    "Knowledge\tcomprehension\tapplicaiton \tanalysis\tsynthesis \t\t\t\t\t\t\t\t\t\t\t\t\t\t\t\t\t\t\t\t\t\n",
    "know, who, define, what, name, where, list, and when\tescribe, use your own words, outline, explain, discuss, and compare\tapply, manipulate, put to use, employ, dramatize, demonstrate, interpret, and choose.\tanalyze, why, take apart, diagram, draw conclusions, simplify, distinguish, and survey.\tcompose, construct, design, revise, create, formulate, produce, and plan.\t\t\t\t\t\t\t\t\t\t\t\t\t\t\t\t\t\t\t\t\t"
   ]
  },
  {
   "cell_type": "code",
   "execution_count": null,
   "metadata": {},
   "outputs": [],
   "source": [
    "PHYSICAL SCIENCE\n",
    "MS-PS1 Matter and its Interactions\n",
    "MS-PS2 Motion and Stability: Forces and Interactions\n",
    "MS-PS3 Energy\n",
    "MS-PS4 Waves and their Applications in Technologies for Information Transfer\n",
    "  \n",
    "LIFE SCIENCE\n",
    "MS-LS1 From Molecules to Organisms: Structures and Processes\n",
    "MS-LS2 Ecosystems: Interactions, Energy, and Dynamics\n",
    "MS-LS3 Heredity: Inheritance and Variation of Traits\n",
    "MS-LS4 Biological Evolution: Unity and Diversity\n",
    "  \n",
    "EARTH AND SPACE SCIENCES\n",
    "MS-ESS1 Earth's Place in the Universe\n",
    "MS-ESS2 Earth's Systems\n",
    "MS-ESS3 Earth and Human Activity\n",
    "  \n",
    "ENGINEERING, TECHNOLOGY, AND APPLICATIONS OF SCIENCE\n",
    "MS-ETS1 Engineering Design"
   ]
  },
  {
   "cell_type": "code",
   "execution_count": null,
   "metadata": {},
   "outputs": [],
   "source": [
    "*** \"The Silhouette Coefficient is calculated using the mean intra-cluster distance (a) and the mean nearest-cluster distance (b) for each sample. The Silhouette Coefficient for a sample is (b - a) / max(a,b). To clarify, b is the distance between a sample and the nearest cluster that the sample is not a part of. \n",
    "\n",
    "The best value is 1 and the worst value is -1. Values near 0 indicate overlapping clusters. Negative values generally indicate that a sample has been assigned to the wrong cluster, as a different cluster is more similar.\"***"
   ]
  },
  {
   "cell_type": "code",
   "execution_count": null,
   "metadata": {},
   "outputs": [],
   "source": [
    "https://www.doe.in.gov/sites/default/files/assessment/2018-2019-grade-6-english-language-arts-mathematics-science.pdf"
   ]
  }
 ],
 "metadata": {
  "kernelspec": {
   "display_name": "Python 3",
   "language": "python",
   "name": "python3"
  },
  "language_info": {
   "codemirror_mode": {
    "name": "ipython",
    "version": 3
   },
   "file_extension": ".py",
   "mimetype": "text/x-python",
   "name": "python",
   "nbconvert_exporter": "python",
   "pygments_lexer": "ipython3",
   "version": "3.8.3"
  }
 },
 "nbformat": 4,
 "nbformat_minor": 4
}
