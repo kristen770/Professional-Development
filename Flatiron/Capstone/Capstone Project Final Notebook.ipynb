{
 "cells": [
  {
   "cell_type": "markdown",
   "metadata": {},
   "source": [
    "# <center> Correlating NGS and State Based Science Standards </center>   \n",
    "\n",
    "<p align=\"center\">\n",
    "  <img width=\"250\" height=\"100\" src=\"NGSS.png\">\n",
    "</p>\n",
    " \n",
    " [](NGSS.png) \n",
    " \n",
    "### <center> Capstone Project - The Flatiron School - By Kristen Davis </center>\n",
    "\n",
    "#### Summary:  \n",
    "In April of 2013 a collection of rigorous, and internationally benchmarked standards for K-12 science education standards were released called [Next Generation Science Standards (NGS)](https://www.nextgenscience.org/) . These standards were crafted to prepare students to be better decision makers about scientific and technical issues and to apply science to their daily lives.  \n",
    "\n",
    "By blending core science knowledge with scientific practices, students are engaged in a more relevant context that deepens their understanding and helps them to build what they need to move forward with their education. However these standards were of voluntary adoption at the time and many states chose not to change their current (common core) standards. \n",
    "\n",
    "Currently 18 states have adopted the NGS fully for their K -12 science curriculum, 26 are 'aligned' to the NGS standards and 8 have independently developled standards. 'Alligning with' or 'aligned to' are terms often used by rarely quantified. By identifying word freqencies and text patterns in the NGS standards and comparing them to state standards that claim to be aligned to them, this project aims not only to provide insight into the similarities and differences of science education across America but also develop a tool that could be used more broadly to measure alignment. "
   ]
  },
  {
   "cell_type": "markdown",
   "metadata": {},
   "source": [
    "### Libraries & Data Packages"
   ]
  },
  {
   "cell_type": "code",
   "execution_count": 53,
   "metadata": {},
   "outputs": [],
   "source": [
    "#data analysis \n",
    "import pandas as pd\n",
    "import numpy as np  \n",
    "\n",
    "#data visulaization \n",
    "import matplotlib.pyplot as plt  \n",
    "\n",
    "#natural langauge processing  \n",
    "import nltk\n",
    "from nltk.corpus import stopwords\n",
    "import string\n",
    "from nltk import word_tokenize, FreqDist \n",
    "from sklearn.feature_extraction.text import TfidfTransformer  \n",
    "from nltk.tokenize import sent_tokenize, word_tokenize\n",
    "\n",
    "\n",
    "\"\"\"UNDEFINED\"\"\"\n",
    "from sklearn.cluster import MiniBatchKMeans, KMeans\n",
    "from sklearn.decomposition import PCA\n",
    "from sklearn.metrics import silhouette_score  \n",
    "from sklearn.metrics import accuracy_score\n",
    "from sklearn.datasets import fetch_20newsgroups\n",
    "from sklearn.ensemble import RandomForestClassifier\n",
    "from sklearn.model_selection import train_test_split \n",
    "from sklearn.feature_extraction.text import CountVectorizer \n",
    "from sklearn.metrics import calinski_harabasz_score \n",
    "from sklearn.naive_bayes import MultinomialNB"
   ]
  },
  {
   "cell_type": "markdown",
   "metadata": {},
   "source": [
    "### General Text Preprocessing\n",
    "Initial text cleaning, that applies global processing such as flattening, removing punction, numbers and basic stop words for each standards set. More exensive text specific processing done when working with specific text later in the notebook."
   ]
  },
  {
   "cell_type": "markdown",
   "metadata": {},
   "source": [
    "#### NGS Standads"
   ]
  },
  {
   "cell_type": "code",
   "execution_count": null,
   "metadata": {},
   "outputs": [],
   "source": [
    "standard_df = pickle.load(open(\"ngsstandards.p\", \"wb\" ))"
   ]
  },
  {
   "cell_type": "code",
   "execution_count": null,
   "metadata": {},
   "outputs": [],
   "source": [
    "#openfile and flatten into single list item\n",
    "ngs_doc_raw = open_and_flatten('ngs')"
   ]
  },
  {
   "cell_type": "markdown",
   "metadata": {},
   "source": [
    "#### Aligned NGS State Standards "
   ]
  },
  {
   "cell_type": "code",
   "execution_count": null,
   "metadata": {},
   "outputs": [],
   "source": [
    "#alabama \n",
    "al_doc_raw = open_and_flatten('alabama') \n",
    "\n",
    "#alaska \n",
    "ak_doc_raw = open_and_flatten('alaska') \n",
    "\n",
    "#arizona \n",
    "az_doc_raw = open_and_flatten('arizona')\n",
    "\n",
    "#colorado \n",
    "co_doc_raw = open_and_flatten('colorado') \n",
    "\n",
    "#flordia \n",
    "fl_doc_raw = open_and_flatten('flordia') \n",
    "\n",
    "#georgia  \n",
    "ga_doc_raw = open_and_flatten('georgia') \n",
    "\n",
    "#idaho\n",
    "id_doc_raw = open_and_flatten('idaho') \n",
    "\n",
    "#indiana \n",
    "in_standards = pickle.load(open(\"instandards.p\", \"wb\" )) \n",
    "\n",
    "#lousiana\n",
    "la_doc_raw = open_and_flatten('louisiana') \n",
    "\n",
    "#massachusetts\n",
    "ma_doc_raw = open_and_flatten('mass') \n",
    "\n",
    "#minnesota   \n",
    "mn_doc_raw = open_and_flatten('minnesota') \n",
    "\n",
    "#mississippi \n",
    "ms_doc_raw = open_and_flatten('mississippi') \n",
    "\n",
    "#missouri \n",
    "mo_doc_raw = open_and_flatten('missouri') \n",
    "\n",
    "#montana \n",
    "mt_doc_raw = open_and_flatten('montana') \n",
    "\n",
    "#nebraska \n",
    "ne_doc_raw = open_and_flatten('nebraska') \n",
    "\n",
    "#north dakota\n",
    "nd_doc_raw = open_and_flatten('northdakota') \n",
    "\n",
    "#oklahoma \n",
    "ok_doc_raw = open_and_flatten('oklahoma') \n",
    "\n",
    "#south carolina \n",
    "sc_doc_raw = open_and_flatten('southcarolina') \n",
    "\n",
    "#south dakota\n",
    "sd_doc_raw = open_and_flatten('southdakota') \n",
    "\n",
    "#tennessee\n",
    "tn_doc_raw = open_and_flatten('tennessee') \n",
    "\n",
    "#utah \n",
    "ut_doc_raw = open_and_flatten('utah') \n",
    "\n",
    "#west virgina \n",
    "wv_doc_raw = open_and_flatten('westvirgina') \n",
    "\n",
    "#wisconsin\n",
    "wi_doc_raw = open_and_flatten('wisconsin') \n",
    "\n",
    "#wyoming \n",
    "wy_doc_raw = open_and_flatten('wyoming')"
   ]
  },
  {
   "cell_type": "markdown",
   "metadata": {},
   "source": [
    "# 3 - KMeans Clustering "
   ]
  },
  {
   "cell_type": "markdown",
   "metadata": {},
   "source": [
    "## &nbsp;&nbsp;&nbsp;&nbsp;&nbsp;&nbsp; 3.1 Data Preprocessing"
   ]
  },
  {
   "cell_type": "code",
   "execution_count": 18,
   "metadata": {},
   "outputs": [],
   "source": [
    "#feature extraction \n",
    "vec = TfidfVectorizer(stop_words=\"english\")\n",
    "X = vec.fit_transform(df.question.values) \n",
    "\n",
    "#create a dense matrix\n",
    "features = X.todense()"
   ]
  },
  {
   "cell_type": "markdown",
   "metadata": {},
   "source": [
    "## &nbsp;&nbsp;&nbsp;&nbsp;&nbsp;&nbsp; 3.2 Identify the ideal number of clusters "
   ]
  },
  {
   "cell_type": "code",
   "execution_count": 19,
   "metadata": {},
   "outputs": [],
   "source": [
    "#identify the number of clusters needed \n",
    "k_means_3 = KMeans(n_clusters=3).fit(features)\n",
    "k_means_4 = KMeans(n_clusters=4).fit(features)\n",
    "k_means_5 = KMeans(n_clusters=5).fit(features)\n",
    "k_means_6 = KMeans(n_clusters=6).fit(features)\n",
    "k_means_7 = KMeans(n_clusters=7).fit(features)\n",
    "\n",
    "k_list = [k_means_3, k_means_4, k_means_5, k_means_6, k_means_7]"
   ]
  },
  {
   "cell_type": "markdown",
   "metadata": {},
   "source": [
    "### &nbsp;&nbsp;&nbsp;&nbsp;&nbsp;&nbsp; Calinski Harabasz Test Evaluation"
   ]
  },
  {
   "cell_type": "code",
   "execution_count": 50,
   "metadata": {},
   "outputs": [
    {
     "data": {
      "text/plain": [
       "[37.26333777985383,\n",
       " 30.49531530842326,\n",
       " 27.55871479684576,\n",
       " 26.589916421316488,\n",
       " 24.99459273388442]"
      ]
     },
     "execution_count": 50,
     "metadata": {},
     "output_type": "execute_result"
    }
   ],
   "source": [
    "#calculate the calinski_harabasz score for each cluster number in k_list\n",
    "CH_score = []\n",
    "\n",
    "for model in k_list:\n",
    "    labels = model.labels_  \n",
    "    CH_score.append(calinski_harabasz_score(features, labels))\n",
    "\n",
    "CH_score"
   ]
  },
  {
   "cell_type": "code",
   "execution_count": 22,
   "metadata": {},
   "outputs": [
    {
     "data": {
      "image/png": "[encoded data removed]",
      "text/plain": [
       "<Figure size 432x288 with 1 Axes>"
      ]
     },
     "metadata": {
      "needs_background": "light"
     },
     "output_type": "display_data"
    }
   ],
   "source": [
    "#visualize the calinski_harabasz score \n",
    "plt.plot([3, 4, 5, 6, 7], CH_score)\n",
    "plt.xticks([3,4,5,6,7])\n",
    "plt.title('Calinski Harabasz Scores for Different Values of K')\n",
    "plt.ylabel('Variance Ratio')\n",
    "plt.xlabel('K=')\n",
    "plt.show()"
   ]
  },
  {
   "cell_type": "markdown",
   "metadata": {},
   "source": [
    "### 3.1.b Within Cluster Sum of Squares (WCSS) Test Evaluation"
   ]
  },
  {
   "cell_type": "code",
   "execution_count": 23,
   "metadata": {},
   "outputs": [],
   "source": [
    "#calculate wcss score for each cluster number in k_list \n",
    "wcss_score = []\n",
    "\n",
    "for model in k_list: \n",
    "    labels = model.labels_ \n",
    "    wcss_score.append(model.inertia_)"
   ]
  },
  {
   "cell_type": "code",
   "execution_count": 24,
   "metadata": {},
   "outputs": [
    {
     "data": {
      "image/png": "[encoded data removed]",
      "text/plain": [
       "<Figure size 432x288 with 1 Axes>"
      ]
     },
     "metadata": {
      "needs_background": "light"
     },
     "output_type": "display_data"
    }
   ],
   "source": [
    "#visualize wcss score \n",
    "plt.plot([3, 4, 5, 6, 7], wcss_score)\n",
    "plt.xticks([3, 4, 5, 6, 7])\n",
    "plt.title('Within Clustter Sum of Squares')\n",
    "plt.ylabel('WCSS')\n",
    "plt.xlabel('K=')\n",
    "plt.show()"
   ]
  },
  {
   "cell_type": "markdown",
   "metadata": {},
   "source": [
    "### Conclusion: \n"
   ]
  },
  {
   "cell_type": "markdown",
   "metadata": {},
   "source": [
    "## 3.2 Build a baseline model"
   ]
  },
  {
   "cell_type": "code",
   "execution_count": 47,
   "metadata": {},
   "outputs": [
    {
     "data": {
      "text/plain": [
       "KMeans(n_clusters=5, random_state=42)"
      ]
     },
     "execution_count": 47,
     "metadata": {},
     "output_type": "execute_result"
    }
   ],
   "source": [
    "#create an instance cluster  \n",
    "model = KMeans(n_clusters=5, random_state=42)\n",
    "model.fit(features)"
   ]
  },
  {
   "cell_type": "code",
   "execution_count": 48,
   "metadata": {},
   "outputs": [],
   "source": [
    "order_centroids = model.cluster_centers_.argsort()[:, ::-1]\n",
    "terms = vec.get_feature_names() "
   ]
  },
  {
   "cell_type": "code",
   "execution_count": 49,
   "metadata": {},
   "outputs": [
    {
     "name": "stdout",
     "output_type": "stream",
     "text": [
      "Cluster 0:\n",
      "following\n",
      "called\n",
      "wave\n",
      "change\n",
      "best\n",
      "did\n",
      "food\n",
      "solar\n",
      "use\n",
      "matter\n",
      "Cluster 1:\n",
      "energy\n",
      "potential\n",
      "kinetic\n",
      "type\n",
      "example\n",
      "food\n",
      "transformation\n",
      "object\n",
      "renewable\n",
      "source\n",
      "Cluster 2:\n",
      "does\n",
      "mean\n",
      "affect\n",
      "earth\n",
      "energy\n",
      "long\n",
      "days\n",
      "sun\n",
      "complete\n",
      "approximately\n",
      "Cluster 3:\n",
      "waves\n",
      "sound\n",
      "travel\n",
      "light\n",
      "true\n",
      "type\n",
      "properties\n",
      "transmit\n",
      "produced\n",
      "electromagnetic\n",
      "Cluster 4:\n",
      "moon\n",
      "earth\n",
      "sun\n",
      "phase\n",
      "phases\n",
      "occur\n",
      "different\n",
      "causes\n",
      "lit\n",
      "eclipse\n"
     ]
    }
   ],
   "source": [
    "for i in range(5):\n",
    "    print(\"Cluster {}:\".format(i)),\n",
    "    for ind in order_centroids[i, :10]:\n",
    "        print('%s' % terms[ind])"
   ]
  },
  {
   "cell_type": "code",
   "execution_count": null,
   "metadata": {},
   "outputs": [],
   "source": []
  },
  {
   "cell_type": "code",
   "execution_count": 266,
   "metadata": {},
   "outputs": [],
   "source": [
    "# reduce the features to 2D\n",
    "pca = PCA(n_components=3, random_state=42) \n",
    "\"\"\" You can use more than two here! Only Plot 2 at a time\"\"\"\n",
    "reduced_features = pca.fit_transform(features)\n",
    "\n",
    "# reduce the cluster centers to 2D\n",
    "reduced_cluster_centers = pca.transform(cls.cluster_centers_)"
   ]
  },
  {
   "cell_type": "code",
   "execution_count": 278,
   "metadata": {},
   "outputs": [
    {
     "data": {
      "text/plain": [
       "<matplotlib.collections.PathCollection at 0x7fa479b05a00>"
      ]
     },
     "execution_count": 278,
     "metadata": {},
     "output_type": "execute_result"
    },
    {
     "data": {
      "image/png": "[encoded data removed]",
      "text/plain": [
       "<Figure size 432x288 with 1 Axes>"
      ]
     },
     "metadata": {
      "needs_background": "light"
     },
     "output_type": "display_data"
    }
   ],
   "source": [
    "#visulaize clustering \n",
    "plt.scatter(reduced_features[:,0], reduced_features[:,1], c=cls.predict(features))\n",
    "plt.scatter(reduced_cluster_centers[:, 0], reduced_cluster_centers[:,1], marker='x', s=150, c='b')"
   ]
  },
  {
   "cell_type": "markdown",
   "metadata": {},
   "source": [
    "### 3.2.a Evaluate Baseline Model"
   ]
  },
  {
   "cell_type": "code",
   "execution_count": 269,
   "metadata": {},
   "outputs": [
    {
     "data": {
      "text/plain": [
       "0.007344144331326521"
      ]
     },
     "execution_count": 269,
     "metadata": {},
     "output_type": "execute_result"
    }
   ],
   "source": [
    "#access the accuracy of the score \n",
    "silhouette_score(features, labels=cls.predict(features))"
   ]
  },
  {
   "cell_type": "markdown",
   "metadata": {},
   "source": [
    "#### Conclusion: \n",
    "not very good low score means my clusters are overlapping"
   ]
  },
  {
   "cell_type": "markdown",
   "metadata": {},
   "source": [
    "# 4 Generate a labeled dataset\n",
    "Merge the labels generated with KMeans to better understand the types of questions the algotrithm has grouped together."
   ]
  },
  {
   "cell_type": "code",
   "execution_count": 270,
   "metadata": {},
   "outputs": [
    {
     "data": {
      "text/html": [
       "<div>\n",
       "<style scoped>\n",
       "    .dataframe tbody tr th:only-of-type {\n",
       "        vertical-align: middle;\n",
       "    }\n",
       "\n",
       "    .dataframe tbody tr th {\n",
       "        vertical-align: top;\n",
       "    }\n",
       "\n",
       "    .dataframe thead th {\n",
       "        text-align: right;\n",
       "    }\n",
       "</style>\n",
       "<table border=\"1\" class=\"dataframe\">\n",
       "  <thead>\n",
       "    <tr style=\"text-align: right;\">\n",
       "      <th></th>\n",
       "      <th>data_index</th>\n",
       "      <th>cluster</th>\n",
       "    </tr>\n",
       "  </thead>\n",
       "  <tbody>\n",
       "    <tr>\n",
       "      <th>0</th>\n",
       "      <td>0</td>\n",
       "      <td>1</td>\n",
       "    </tr>\n",
       "    <tr>\n",
       "      <th>1</th>\n",
       "      <td>1</td>\n",
       "      <td>1</td>\n",
       "    </tr>\n",
       "    <tr>\n",
       "      <th>2</th>\n",
       "      <td>2</td>\n",
       "      <td>1</td>\n",
       "    </tr>\n",
       "    <tr>\n",
       "      <th>3</th>\n",
       "      <td>3</td>\n",
       "      <td>1</td>\n",
       "    </tr>\n",
       "    <tr>\n",
       "      <th>4</th>\n",
       "      <td>4</td>\n",
       "      <td>1</td>\n",
       "    </tr>\n",
       "  </tbody>\n",
       "</table>\n",
       "</div>"
      ],
      "text/plain": [
       "   data_index  cluster\n",
       "0           0        1\n",
       "1           1        1\n",
       "2           2        1\n",
       "3           3        1\n",
       "4           4        1"
      ]
     },
     "execution_count": 270,
     "metadata": {},
     "output_type": "execute_result"
    }
   ],
   "source": [
    "#collect all the labels and values for the KMeans \n",
    "cluster_map = pd.DataFrame()\n",
    "cluster_map['data_index'] = data.index.values\n",
    "cluster_map['cluster'] = cls.labels_ \n",
    "\n",
    "#sanity check \n",
    "cluster_map.head()"
   ]
  },
  {
   "cell_type": "code",
   "execution_count": 271,
   "metadata": {},
   "outputs": [
    {
     "data": {
      "text/plain": [
       "'In the spaces below, draw the positions of (and label) the Sun, Earth and Moon during eclipses:'"
      ]
     },
     "execution_count": 271,
     "metadata": {},
     "output_type": "execute_result"
    }
   ],
   "source": [
    "#merge the two dataframes on the index\n",
    "result = df.join(cluster_map.set_index('data_index'))\n",
    "\n",
    "#sanity check\n",
    "result.loc[result['cluster'] == 2] \n",
    "result.loc[93, \"question\"]"
   ]
  },
  {
   "cell_type": "markdown",
   "metadata": {},
   "source": [
    "## 4.1 Cluster Label 1"
   ]
  },
  {
   "cell_type": "code",
   "execution_count": 272,
   "metadata": {},
   "outputs": [
    {
     "data": {
      "text/html": [
       "<div>\n",
       "<style scoped>\n",
       "    .dataframe tbody tr th:only-of-type {\n",
       "        vertical-align: middle;\n",
       "    }\n",
       "\n",
       "    .dataframe tbody tr th {\n",
       "        vertical-align: top;\n",
       "    }\n",
       "\n",
       "    .dataframe thead th {\n",
       "        text-align: right;\n",
       "    }\n",
       "</style>\n",
       "<table border=\"1\" class=\"dataframe\">\n",
       "  <thead>\n",
       "    <tr style=\"text-align: right;\">\n",
       "      <th></th>\n",
       "      <th>question</th>\n",
       "      <th>cluster</th>\n",
       "    </tr>\n",
       "  </thead>\n",
       "  <tbody>\n",
       "    <tr>\n",
       "      <th>0</th>\n",
       "      <td>“What is the biggest city in Japan?”</td>\n",
       "      <td>1</td>\n",
       "    </tr>\n",
       "    <tr>\n",
       "      <th>1</th>\n",
       "      <td>“Who wrote War and Peace?”</td>\n",
       "      <td>1</td>\n",
       "    </tr>\n",
       "    <tr>\n",
       "      <th>2</th>\n",
       "      <td>“How many ounces in a pound?”</td>\n",
       "      <td>1</td>\n",
       "    </tr>\n",
       "    <tr>\n",
       "      <th>3</th>\n",
       "      <td>“How would you illustrate the water cycle?”</td>\n",
       "      <td>1</td>\n",
       "    </tr>\n",
       "    <tr>\n",
       "      <th>4</th>\n",
       "      <td>“What is the main idea of this story?”</td>\n",
       "      <td>1</td>\n",
       "    </tr>\n",
       "    <tr>\n",
       "      <th>...</th>\n",
       "      <td>...</td>\n",
       "      <td>...</td>\n",
       "    </tr>\n",
       "    <tr>\n",
       "      <th>4327</th>\n",
       "      <td>Which of Newton’s Law’s do these examples illu...</td>\n",
       "      <td>1</td>\n",
       "    </tr>\n",
       "    <tr>\n",
       "      <th>4329</th>\n",
       "      <td>On a velocity graph, what goes on the “X” axis...</td>\n",
       "      <td>1</td>\n",
       "    </tr>\n",
       "    <tr>\n",
       "      <th>4330</th>\n",
       "      <td>What four forces act on an airplane as it flie...</td>\n",
       "      <td>1</td>\n",
       "    </tr>\n",
       "    <tr>\n",
       "      <th>4331</th>\n",
       "      <td>forces cause a change in an object’s motion</td>\n",
       "      <td>1</td>\n",
       "    </tr>\n",
       "    <tr>\n",
       "      <th>4332</th>\n",
       "      <td>force: the total force applied to an object</td>\n",
       "      <td>1</td>\n",
       "    </tr>\n",
       "  </tbody>\n",
       "</table>\n",
       "<p>3662 rows × 2 columns</p>\n",
       "</div>"
      ],
      "text/plain": [
       "                                               question  cluster\n",
       "0                  “What is the biggest city in Japan?”        1\n",
       "1                            “Who wrote War and Peace?”        1\n",
       "2                         “How many ounces in a pound?”        1\n",
       "3           “How would you illustrate the water cycle?”        1\n",
       "4                “What is the main idea of this story?”        1\n",
       "...                                                 ...      ...\n",
       "4327  Which of Newton’s Law’s do these examples illu...        1\n",
       "4329  On a velocity graph, what goes on the “X” axis...        1\n",
       "4330  What four forces act on an airplane as it flie...        1\n",
       "4331        forces cause a change in an object’s motion        1\n",
       "4332        force: the total force applied to an object        1\n",
       "\n",
       "[3662 rows x 2 columns]"
      ]
     },
     "execution_count": 272,
     "metadata": {},
     "output_type": "execute_result"
    }
   ],
   "source": [
    "result.loc[result['cluster'] == 1] "
   ]
  },
  {
   "cell_type": "markdown",
   "metadata": {},
   "source": [
    "cluster tending toward physical science"
   ]
  },
  {
   "cell_type": "markdown",
   "metadata": {},
   "source": [
    "## 4.2 Cluster Label 2"
   ]
  },
  {
   "cell_type": "code",
   "execution_count": 274,
   "metadata": {},
   "outputs": [
    {
     "data": {
      "text/html": [
       "<div>\n",
       "<style scoped>\n",
       "    .dataframe tbody tr th:only-of-type {\n",
       "        vertical-align: middle;\n",
       "    }\n",
       "\n",
       "    .dataframe tbody tr th {\n",
       "        vertical-align: top;\n",
       "    }\n",
       "\n",
       "    .dataframe thead th {\n",
       "        text-align: right;\n",
       "    }\n",
       "</style>\n",
       "<table border=\"1\" class=\"dataframe\">\n",
       "  <thead>\n",
       "    <tr style=\"text-align: right;\">\n",
       "      <th></th>\n",
       "      <th>question</th>\n",
       "      <th>cluster</th>\n",
       "    </tr>\n",
       "  </thead>\n",
       "  <tbody>\n",
       "    <tr>\n",
       "      <th>90</th>\n",
       "      <td>Eclipses do not occur every time there is a ne...</td>\n",
       "      <td>2</td>\n",
       "    </tr>\n",
       "    <tr>\n",
       "      <th>92</th>\n",
       "      <td>During the class activity in which you modelle...</td>\n",
       "      <td>2</td>\n",
       "    </tr>\n",
       "    <tr>\n",
       "      <th>93</th>\n",
       "      <td>In the spaces below, draw the positions of (an...</td>\n",
       "      <td>2</td>\n",
       "    </tr>\n",
       "    <tr>\n",
       "      <th>94</th>\n",
       "      <td>how are tides affected by the phases of the moon?</td>\n",
       "      <td>2</td>\n",
       "    </tr>\n",
       "    <tr>\n",
       "      <th>96</th>\n",
       "      <td>What was the highest tide at that location and...</td>\n",
       "      <td>2</td>\n",
       "    </tr>\n",
       "    <tr>\n",
       "      <th>...</th>\n",
       "      <td>...</td>\n",
       "      <td>...</td>\n",
       "    </tr>\n",
       "    <tr>\n",
       "      <th>4035</th>\n",
       "      <td>How many days does it take for the Moon to orb...</td>\n",
       "      <td>2</td>\n",
       "    </tr>\n",
       "    <tr>\n",
       "      <th>4205</th>\n",
       "      <td>Where does the moon get its light?</td>\n",
       "      <td>2</td>\n",
       "    </tr>\n",
       "    <tr>\n",
       "      <th>4206</th>\n",
       "      <td>How much of the moon is always lit by the sun?...</td>\n",
       "      <td>2</td>\n",
       "    </tr>\n",
       "    <tr>\n",
       "      <th>4208</th>\n",
       "      <td>Draw and label the eight main phases of the mo...</td>\n",
       "      <td>2</td>\n",
       "    </tr>\n",
       "    <tr>\n",
       "      <th>4209</th>\n",
       "      <td>Why does the moon not block the sun when it is...</td>\n",
       "      <td>2</td>\n",
       "    </tr>\n",
       "  </tbody>\n",
       "</table>\n",
       "<p>140 rows × 2 columns</p>\n",
       "</div>"
      ],
      "text/plain": [
       "                                               question  cluster\n",
       "90    Eclipses do not occur every time there is a ne...        2\n",
       "92    During the class activity in which you modelle...        2\n",
       "93    In the spaces below, draw the positions of (an...        2\n",
       "94    how are tides affected by the phases of the moon?        2\n",
       "96    What was the highest tide at that location and...        2\n",
       "...                                                 ...      ...\n",
       "4035  How many days does it take for the Moon to orb...        2\n",
       "4205                 Where does the moon get its light?        2\n",
       "4206  How much of the moon is always lit by the sun?...        2\n",
       "4208  Draw and label the eight main phases of the mo...        2\n",
       "4209  Why does the moon not block the sun when it is...        2\n",
       "\n",
       "[140 rows x 2 columns]"
      ]
     },
     "execution_count": 274,
     "metadata": {},
     "output_type": "execute_result"
    }
   ],
   "source": [
    "result.loc[result['cluster'] == 2] "
   ]
  },
  {
   "cell_type": "markdown",
   "metadata": {},
   "source": [
    "cluster trending toward earth / space"
   ]
  },
  {
   "cell_type": "markdown",
   "metadata": {},
   "source": [
    "## 4.3 Cluster Label 3"
   ]
  },
  {
   "cell_type": "code",
   "execution_count": 275,
   "metadata": {},
   "outputs": [
    {
     "data": {
      "text/html": [
       "<div>\n",
       "<style scoped>\n",
       "    .dataframe tbody tr th:only-of-type {\n",
       "        vertical-align: middle;\n",
       "    }\n",
       "\n",
       "    .dataframe tbody tr th {\n",
       "        vertical-align: top;\n",
       "    }\n",
       "\n",
       "    .dataframe thead th {\n",
       "        text-align: right;\n",
       "    }\n",
       "</style>\n",
       "<table border=\"1\" class=\"dataframe\">\n",
       "  <thead>\n",
       "    <tr style=\"text-align: right;\">\n",
       "      <th></th>\n",
       "      <th>question</th>\n",
       "      <th>cluster</th>\n",
       "    </tr>\n",
       "  </thead>\n",
       "  <tbody>\n",
       "    <tr>\n",
       "      <th>27</th>\n",
       "      <td>Which location on Earth is receiving the most ...</td>\n",
       "      <td>3</td>\n",
       "    </tr>\n",
       "    <tr>\n",
       "      <th>170</th>\n",
       "      <td>How did the amount of light energy on each hem...</td>\n",
       "      <td>3</td>\n",
       "    </tr>\n",
       "    <tr>\n",
       "      <th>335</th>\n",
       "      <td>What happens to most of the solar energy direc...</td>\n",
       "      <td>3</td>\n",
       "    </tr>\n",
       "    <tr>\n",
       "      <th>337</th>\n",
       "      <td>Which list best describes the energy of the ba...</td>\n",
       "      <td>3</td>\n",
       "    </tr>\n",
       "    <tr>\n",
       "      <th>338</th>\n",
       "      <td>Which two objects transform electrical energy ...</td>\n",
       "      <td>3</td>\n",
       "    </tr>\n",
       "    <tr>\n",
       "      <th>...</th>\n",
       "      <td>...</td>\n",
       "      <td>...</td>\n",
       "    </tr>\n",
       "    <tr>\n",
       "      <th>4073</th>\n",
       "      <td>What is the shortest way that the energy from ...</td>\n",
       "      <td>3</td>\n",
       "    </tr>\n",
       "    <tr>\n",
       "      <th>4190</th>\n",
       "      <td>What do you notice about how plants get their ...</td>\n",
       "      <td>3</td>\n",
       "    </tr>\n",
       "    <tr>\n",
       "      <th>4253</th>\n",
       "      <td>How does the amount of heat energy provided by...</td>\n",
       "      <td>3</td>\n",
       "    </tr>\n",
       "    <tr>\n",
       "      <th>4255</th>\n",
       "      <td>How does the amount of heat energy provided by...</td>\n",
       "      <td>3</td>\n",
       "    </tr>\n",
       "    <tr>\n",
       "      <th>4328</th>\n",
       "      <td>At what point of a roller coaster ride do you ...</td>\n",
       "      <td>3</td>\n",
       "    </tr>\n",
       "  </tbody>\n",
       "</table>\n",
       "<p>495 rows × 2 columns</p>\n",
       "</div>"
      ],
      "text/plain": [
       "                                               question  cluster\n",
       "27    Which location on Earth is receiving the most ...        3\n",
       "170   How did the amount of light energy on each hem...        3\n",
       "335   What happens to most of the solar energy direc...        3\n",
       "337   Which list best describes the energy of the ba...        3\n",
       "338   Which two objects transform electrical energy ...        3\n",
       "...                                                 ...      ...\n",
       "4073  What is the shortest way that the energy from ...        3\n",
       "4190  What do you notice about how plants get their ...        3\n",
       "4253  How does the amount of heat energy provided by...        3\n",
       "4255  How does the amount of heat energy provided by...        3\n",
       "4328  At what point of a roller coaster ride do you ...        3\n",
       "\n",
       "[495 rows x 2 columns]"
      ]
     },
     "execution_count": 275,
     "metadata": {},
     "output_type": "execute_result"
    }
   ],
   "source": [
    "result.loc[result['cluster'] == 3] "
   ]
  },
  {
   "cell_type": "markdown",
   "metadata": {},
   "source": [
    "hot mess"
   ]
  },
  {
   "cell_type": "markdown",
   "metadata": {},
   "source": [
    "## 4.4 Cluster Label 4"
   ]
  },
  {
   "cell_type": "code",
   "execution_count": 279,
   "metadata": {},
   "outputs": [
    {
     "data": {
      "text/html": [
       "<div>\n",
       "<style scoped>\n",
       "    .dataframe tbody tr th:only-of-type {\n",
       "        vertical-align: middle;\n",
       "    }\n",
       "\n",
       "    .dataframe tbody tr th {\n",
       "        vertical-align: top;\n",
       "    }\n",
       "\n",
       "    .dataframe thead th {\n",
       "        text-align: right;\n",
       "    }\n",
       "</style>\n",
       "<table border=\"1\" class=\"dataframe\">\n",
       "  <thead>\n",
       "    <tr style=\"text-align: right;\">\n",
       "      <th></th>\n",
       "      <th>question</th>\n",
       "      <th>cluster</th>\n",
       "    </tr>\n",
       "  </thead>\n",
       "  <tbody>\n",
       "  </tbody>\n",
       "</table>\n",
       "</div>"
      ],
      "text/plain": [
       "Empty DataFrame\n",
       "Columns: [question, cluster]\n",
       "Index: []"
      ]
     },
     "execution_count": 279,
     "metadata": {},
     "output_type": "execute_result"
    }
   ],
   "source": [
    "result.loc[result['cluster'] == 4] "
   ]
  },
  {
   "cell_type": "code",
   "execution_count": null,
   "metadata": {},
   "outputs": [],
   "source": [
    "cluster to catergory than model per catergory for bandwith standards   \n",
    "pc - 3 \n",
    "function that would run through each section "
   ]
  },
  {
   "cell_type": "markdown",
   "metadata": {},
   "source": [
    "# 5 Name Question Clusters \n",
    "Using the descriptions and titles of science standards in the middle school band (6-8) create a name for each cluster identified."
   ]
  },
  {
   "cell_type": "code",
   "execution_count": null,
   "metadata": {},
   "outputs": [],
   "source": [
    "\"\"\"Look at frequency of words in each standard\"\"\""
   ]
  },
  {
   "cell_type": "code",
   "execution_count": null,
   "metadata": {},
   "outputs": [],
   "source": [
    "#display scrapped science standards\n",
    "import pickle \n",
    "unpickled_df = pd.read_pickle(\"./dummy.pkl\")\n",
    "unpickled_df"
   ]
  },
  {
   "cell_type": "code",
   "execution_count": null,
   "metadata": {},
   "outputs": [],
   "source": [
    "\"\"\"remove stop words \n",
    "\n",
    "    identify most common words\"\"\""
   ]
  },
  {
   "cell_type": "markdown",
   "metadata": {},
   "source": [
    "# 6 Predict Question Type Given Question \n",
    "Use supervised learning techniques in combination with the labeled data to predict question type given a question."
   ]
  },
  {
   "cell_type": "code",
   "execution_count": 249,
   "metadata": {},
   "outputs": [],
   "source": [
    "#define the target\n",
    "X = result.drop('cluster', axis=1)\n",
    "y = result['cluster']"
   ]
  },
  {
   "cell_type": "code",
   "execution_count": 250,
   "metadata": {},
   "outputs": [],
   "source": [
    "#train test split\n",
    "X_train, X_test, y_train, y_test = train_test_split(X, y, test_size=0.33, random_state=42)"
   ]
  },
  {
   "cell_type": "code",
   "execution_count": 251,
   "metadata": {},
   "outputs": [],
   "source": [
    "#vecotrize the X data \n",
    "count_vect = CountVectorizer()\n",
    "X_train_counts = count_vect.fit_transform(X_train.question) \n",
    "X_test_counts = count_vect.transform(X_test.question)"
   ]
  },
  {
   "cell_type": "code",
   "execution_count": 252,
   "metadata": {},
   "outputs": [
    {
     "name": "stdout",
     "output_type": "stream",
     "text": [
      "X_train Shape: (2903, 3682)\n",
      "X_test Shape: (1430, 3682)\n"
     ]
    }
   ],
   "source": [
    "#scale down impact of frequently occuring words\n",
    "tfidf_transformer = TfidfTransformer()\n",
    "X_train_tfidf = tfidf_transformer.fit_transform(X_train_counts) \n",
    "X_test_tfidf = tfidf_transformer.fit_transform(X_test_counts) \n",
    "\n",
    "#look at the shape of each set \n",
    "print(\"X_train Shape:\", X_train_tfidf.shape) \n",
    "print(\"X_test Shape:\", X_test_tfidf.shape)"
   ]
  },
  {
   "cell_type": "code",
   "execution_count": 253,
   "metadata": {},
   "outputs": [],
   "source": [
    "#instatiate classifiers\n",
    "mnb = MultinomialNB()\n",
    "rf = RandomForestClassifier(n_estimators=100)"
   ]
  },
  {
   "cell_type": "code",
   "execution_count": 254,
   "metadata": {},
   "outputs": [],
   "source": [
    "#fit Multinomial classifier \n",
    "mnb.fit(X_train_tfidf, y_train)  \n",
    "\n",
    "# NB Predictions\n",
    "mnb_train_preds = nb_classifier.predict(X_train_tfidf) \n",
    "mnb_test_preds = nb_classifier.predict(X_test_tfidf)"
   ]
  },
  {
   "cell_type": "code",
   "execution_count": 255,
   "metadata": {
    "scrolled": true
   },
   "outputs": [],
   "source": [
    "#fit Random Forest classifier \n",
    "rf.fit(X_train_tfidf, y_train)  \n",
    "\n",
    "# RF Predictions \n",
    "rf_train_preds = rf.predict(X_train_tfidf) \n",
    "rf_test_preds = mnb.predict(X_test_tfidf)"
   ]
  },
  {
   "cell_type": "code",
   "execution_count": 256,
   "metadata": {},
   "outputs": [
    {
     "name": "stdout",
     "output_type": "stream",
     "text": [
      "Multinomial Naive Bayes\n",
      "Training Accuracy: 0.8891 \t\t Testing Accuracy: 0.8678\n",
      "\n",
      "----------------------------------------------------------------------\n",
      "\n",
      "Random Forest\n",
      "Training Accuracy: 1.0 \t\t Testing Accuracy: 0.8678\n"
     ]
    }
   ],
   "source": [
    "nb_train_score = accuracy_score(y_train, mnb_train_preds)\n",
    "nb_test_score = accuracy_score(y_test, mnb_test_preds)\n",
    "rf_train_score = accuracy_score(y_train, rf_train_preds)\n",
    "rf_test_score = accuracy_score(y_test, rf_test_preds)\n",
    "\n",
    "print(\"Multinomial Naive Bayes\")\n",
    "print(\"Training Accuracy: {:.4} \\t\\t Testing Accuracy: {:.4}\".format(nb_train_score, nb_test_score))\n",
    "print(\"\")\n",
    "print('-'*70)\n",
    "print(\"\")\n",
    "print('Random Forest')\n",
    "print(\"Training Accuracy: {:.4} \\t\\t Testing Accuracy: {:.4}\".format(rf_train_score, rf_test_score))"
   ]
  },
  {
   "cell_type": "code",
   "execution_count": null,
   "metadata": {},
   "outputs": [],
   "source": [
    "\"\"\"TEST K FOLD PRECISION AND RECALL}\"\"\" \n",
    "\n",
    "\"\"\"Plot feature importance  \n",
    "\n",
    "Grid search \n",
    "\n",
    "confusion matrix - what groups is it confusing together \"\"\""
   ]
  },
  {
   "cell_type": "markdown",
   "metadata": {},
   "source": [
    "# 7 NLP Text Classification "
   ]
  },
  {
   "cell_type": "code",
   "execution_count": null,
   "metadata": {},
   "outputs": [],
   "source": []
  }
 ],
 "metadata": {
  "kernelspec": {
   "display_name": "Python 3",
   "language": "python",
   "name": "python3"
  },
  "language_info": {
   "codemirror_mode": {
    "name": "ipython",
    "version": 3
   },
   "file_extension": ".py",
   "mimetype": "text/x-python",
   "name": "python",
   "nbconvert_exporter": "python",
   "pygments_lexer": "ipython3",
   "version": "3.8.3"
  }
 },
 "nbformat": 4,
 "nbformat_minor": 4
}
