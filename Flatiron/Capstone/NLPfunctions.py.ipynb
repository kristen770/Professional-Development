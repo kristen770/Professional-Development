{
 "cells": [
  {
   "cell_type": "code",
   "execution_count": null,
   "metadata": {},
   "outputs": [],
   "source": [
    "def general_processing(txtfile):   \n",
    "    \"\"\"Takes in a txtfile and does general preprocessing to text data \n",
    "    flatten/ sperate on comma/ tokenize/ lower words/ remove basic stop words\"\"\" \n",
    "    import nltk\n",
    "    #open and flatten file\n",
    "    file_raw = open_and_flatten(txtfile) \n",
    "    #seperate file on , -  \n",
    "    seperator = \",\"\n",
    "    joined_file = seperator.join(file_raw)  \n",
    "    #tokenize string\n",
    "    pattern = \"([a-zA-Z]+(?:'[a-z]+)?)\"\n",
    "    joined_file_tokens = nltk.regexp_tokenize(joined_file, pattern)  \n",
    "    #set all words to lower case\n",
    "    joined_file_words_lowered = [word.lower() for word in joined_file_tokens] \n",
    "    #remove general stopwords \n",
    "    stopwords_list = stopwords.words('english')\n",
    "    stopwords_list += list(string.punctuation)\n",
    "    stopwords_list += ['0', '1', '2', '3', '4', '5', '6', '7', '8', '9', 'Student','Name','School',\n",
    "                       'The', 'a', 'b', 'c', 'd', 'e', 'f', 'g', 'h', 'i', 'j', 'k', 'l', 'm', 'n', 'o',\n",
    "                       'p', 'q', 'r', 's', 't', 'u', 'v', 'w', 'x', 'y', 'z', 'st']\n",
    "    joined_file_words_stopped = [word for word in joined_file_words_lowered if word not in stopwords_list] \n",
    "    return joined_file_words_stopped "
   ]
  }
 ],
 "metadata": {
  "kernelspec": {
   "display_name": "Python 3",
   "language": "python",
   "name": "python3"
  },
  "language_info": {
   "codemirror_mode": {
    "name": "ipython",
    "version": 3
   },
   "file_extension": ".py",
   "mimetype": "text/x-python",
   "name": "python",
   "nbconvert_exporter": "python",
   "pygments_lexer": "ipython3",
   "version": "3.8.3"
  }
 },
 "nbformat": 4,
 "nbformat_minor": 4
}
